{
 "cells": [
  {
   "cell_type": "code",
   "execution_count": 133,
   "id": "6b0c8ab8-ea8c-42d2-8163-061d2a620a40",
   "metadata": {},
   "outputs": [
    {
     "name": "stdout",
     "output_type": "stream",
     "text": [
      "The history saving thread hit an unexpected error (OperationalError('attempt to write a readonly database')).History will not be written to the database.\n"
     ]
    }
   ],
   "source": [
    "import os\n",
    "import numpy as np  #mathematical calculation\n",
    "import pandas as pd # data manipulations\n",
    "import matplotlib.pyplot as plt #data visuliasation\n",
    "import seaborn as sns  #data visuliasation\n",
    "sns.set\n",
    "%matplotlib inline\n",
    "import warnings\n",
    "warnings.filterwarnings(\"ignore\")"
   ]
  },
  {
   "cell_type": "code",
   "execution_count": 134,
   "id": "0b614e23-1660-461b-a001-a8b2767b708f",
   "metadata": {},
   "outputs": [],
   "source": [
    "#by default controlling height and width of plot\n",
    "#by default controlling height and width of plot"
   ]
  },
  {
   "cell_type": "code",
   "execution_count": 135,
   "id": "2f130e76-f4de-476c-a433-3bc77f094c4f",
   "metadata": {},
   "outputs": [],
   "source": [
    "USAHOUSING = pd.read_csv('USA_Housing.csv')"
   ]
  },
  {
   "cell_type": "code",
   "execution_count": 136,
   "id": "3df87e59-72e8-4ad4-a1b6-0ce9c19efd12",
   "metadata": {},
   "outputs": [
    {
     "data": {
      "text/html": [
       "<div>\n",
       "<style scoped>\n",
       "    .dataframe tbody tr th:only-of-type {\n",
       "        vertical-align: middle;\n",
       "    }\n",
       "\n",
       "    .dataframe tbody tr th {\n",
       "        vertical-align: top;\n",
       "    }\n",
       "\n",
       "    .dataframe thead th {\n",
       "        text-align: right;\n",
       "    }\n",
       "</style>\n",
       "<table border=\"1\" class=\"dataframe\">\n",
       "  <thead>\n",
       "    <tr style=\"text-align: right;\">\n",
       "      <th></th>\n",
       "      <th>Avg. Area Income</th>\n",
       "      <th>Avg. Area House Age</th>\n",
       "      <th>Avg. Area Number of Rooms</th>\n",
       "      <th>Avg. Area Number of Bedrooms</th>\n",
       "      <th>Area Population</th>\n",
       "      <th>Price</th>\n",
       "      <th>Address</th>\n",
       "    </tr>\n",
       "  </thead>\n",
       "  <tbody>\n",
       "    <tr>\n",
       "      <th>0</th>\n",
       "      <td>79545.45857</td>\n",
       "      <td>5.682861</td>\n",
       "      <td>7.009188</td>\n",
       "      <td>4.09</td>\n",
       "      <td>23086.80050</td>\n",
       "      <td>1.059034e+06</td>\n",
       "      <td>208 Michael Ferry Apt. 674\\nLaurabury, NE 3701...</td>\n",
       "    </tr>\n",
       "    <tr>\n",
       "      <th>1</th>\n",
       "      <td>79248.64245</td>\n",
       "      <td>6.002900</td>\n",
       "      <td>6.730821</td>\n",
       "      <td>3.09</td>\n",
       "      <td>40173.07217</td>\n",
       "      <td>1.505891e+06</td>\n",
       "      <td>188 Johnson Views Suite 079\\nLake Kathleen, CA...</td>\n",
       "    </tr>\n",
       "    <tr>\n",
       "      <th>2</th>\n",
       "      <td>61287.06718</td>\n",
       "      <td>5.865890</td>\n",
       "      <td>8.512727</td>\n",
       "      <td>5.13</td>\n",
       "      <td>36882.15940</td>\n",
       "      <td>1.058988e+06</td>\n",
       "      <td>9127 Elizabeth Stravenue\\nDanieltown, WI 06482...</td>\n",
       "    </tr>\n",
       "    <tr>\n",
       "      <th>3</th>\n",
       "      <td>63345.24005</td>\n",
       "      <td>7.188236</td>\n",
       "      <td>5.586729</td>\n",
       "      <td>3.26</td>\n",
       "      <td>34310.24283</td>\n",
       "      <td>1.260617e+06</td>\n",
       "      <td>USS Barnett\\nFPO AP 44820</td>\n",
       "    </tr>\n",
       "    <tr>\n",
       "      <th>4</th>\n",
       "      <td>59982.19723</td>\n",
       "      <td>5.040555</td>\n",
       "      <td>7.839388</td>\n",
       "      <td>4.23</td>\n",
       "      <td>26354.10947</td>\n",
       "      <td>6.309435e+05</td>\n",
       "      <td>USNS Raymond\\nFPO AE 09386</td>\n",
       "    </tr>\n",
       "  </tbody>\n",
       "</table>\n",
       "</div>"
      ],
      "text/plain": [
       "   Avg. Area Income  Avg. Area House Age  Avg. Area Number of Rooms  \\\n",
       "0       79545.45857             5.682861                   7.009188   \n",
       "1       79248.64245             6.002900                   6.730821   \n",
       "2       61287.06718             5.865890                   8.512727   \n",
       "3       63345.24005             7.188236                   5.586729   \n",
       "4       59982.19723             5.040555                   7.839388   \n",
       "\n",
       "   Avg. Area Number of Bedrooms  Area Population         Price  \\\n",
       "0                          4.09      23086.80050  1.059034e+06   \n",
       "1                          3.09      40173.07217  1.505891e+06   \n",
       "2                          5.13      36882.15940  1.058988e+06   \n",
       "3                          3.26      34310.24283  1.260617e+06   \n",
       "4                          4.23      26354.10947  6.309435e+05   \n",
       "\n",
       "                                             Address  \n",
       "0  208 Michael Ferry Apt. 674\\nLaurabury, NE 3701...  \n",
       "1  188 Johnson Views Suite 079\\nLake Kathleen, CA...  \n",
       "2  9127 Elizabeth Stravenue\\nDanieltown, WI 06482...  \n",
       "3                          USS Barnett\\nFPO AP 44820  \n",
       "4                         USNS Raymond\\nFPO AE 09386  "
      ]
     },
     "execution_count": 136,
     "metadata": {},
     "output_type": "execute_result"
    }
   ],
   "source": [
    "USAHOUSING.head() #Display only first 5 rows"
   ]
  },
  {
   "cell_type": "code",
   "execution_count": 124,
   "id": "922464bc-79e3-4eaf-8d56-9bfc4ceb6f34",
   "metadata": {},
   "outputs": [
    {
     "data": {
      "text/plain": [
       "Index(['Avg. Area Income', 'Avg. Area House Age', 'Avg. Area Number of Rooms',\n",
       "       'Avg. Area Number of Bedrooms', 'Area Population', 'Price', 'Address'],\n",
       "      dtype='object')"
      ]
     },
     "execution_count": 124,
     "metadata": {},
     "output_type": "execute_result"
    }
   ],
   "source": [
    "USAHOUSING.columns"
   ]
  },
  {
   "cell_type": "code",
   "execution_count": 125,
   "id": "c87f19ab-b50d-42d1-8ffc-52f4db367337",
   "metadata": {},
   "outputs": [],
   "source": [
    "USAHOUSING.columns=USAHOUSING.columns.str.replace(' ', '_' )"
   ]
  },
  {
   "cell_type": "code",
   "execution_count": 126,
   "id": "ba3dd640-925e-49fc-8b77-823d773f966a",
   "metadata": {},
   "outputs": [
    {
     "data": {
      "text/plain": [
       "Index(['Avg._Area_Income', 'Avg._Area_House_Age', 'Avg._Area_Number_of_Rooms',\n",
       "       'Avg._Area_Number_of_Bedrooms', 'Area_Population', 'Price', 'Address'],\n",
       "      dtype='object')"
      ]
     },
     "execution_count": 126,
     "metadata": {},
     "output_type": "execute_result"
    }
   ],
   "source": [
    "USAHOUSING.columns"
   ]
  },
  {
   "cell_type": "code",
   "execution_count": 127,
   "id": "3c3349af-dfdb-408a-ad4a-06a20cdf3a86",
   "metadata": {},
   "outputs": [],
   "source": [
    "USAHOUSING.columns=USAHOUSING.columns.str.replace('.', '')"
   ]
  },
  {
   "cell_type": "code",
   "execution_count": 128,
   "id": "141dbd53-d87e-47e7-9df2-f3378dc88a87",
   "metadata": {},
   "outputs": [
    {
     "data": {
      "text/plain": [
       "Index(['Avg_Area_Income', 'Avg_Area_House_Age', 'Avg_Area_Number_of_Rooms',\n",
       "       'Avg_Area_Number_of_Bedrooms', 'Area_Population', 'Price', 'Address'],\n",
       "      dtype='object')"
      ]
     },
     "execution_count": 128,
     "metadata": {},
     "output_type": "execute_result"
    }
   ],
   "source": [
    "USAHOUSING.columns"
   ]
  },
  {
   "cell_type": "code",
   "execution_count": 129,
   "id": "3b707fdc-2fea-46a3-b556-90d6f47f7b0a",
   "metadata": {},
   "outputs": [
    {
     "name": "stdout",
     "output_type": "stream",
     "text": [
      "<class 'pandas.core.frame.DataFrame'>\n",
      "RangeIndex: 5000 entries, 0 to 4999\n",
      "Data columns (total 7 columns):\n",
      " #   Column                       Non-Null Count  Dtype  \n",
      "---  ------                       --------------  -----  \n",
      " 0   Avg_Area_Income              4990 non-null   float64\n",
      " 1   Avg_Area_House_Age           5000 non-null   float64\n",
      " 2   Avg_Area_Number_of_Rooms     4995 non-null   float64\n",
      " 3   Avg_Area_Number_of_Bedrooms  4994 non-null   float64\n",
      " 4   Area_Population              5000 non-null   float64\n",
      " 5   Price                        5000 non-null   float64\n",
      " 6   Address                      5000 non-null   object \n",
      "dtypes: float64(6), object(1)\n",
      "memory usage: 273.6+ KB\n"
     ]
    }
   ],
   "source": [
    "USAHOUSING.info()"
   ]
  },
  {
   "cell_type": "code",
   "execution_count": 130,
   "id": "683f4ca7-6657-4b40-a9df-a1e68886d8c9",
   "metadata": {},
   "outputs": [
    {
     "data": {
      "text/html": [
       "<div>\n",
       "<style scoped>\n",
       "    .dataframe tbody tr th:only-of-type {\n",
       "        vertical-align: middle;\n",
       "    }\n",
       "\n",
       "    .dataframe tbody tr th {\n",
       "        vertical-align: top;\n",
       "    }\n",
       "\n",
       "    .dataframe thead th {\n",
       "        text-align: right;\n",
       "    }\n",
       "</style>\n",
       "<table border=\"1\" class=\"dataframe\">\n",
       "  <thead>\n",
       "    <tr style=\"text-align: right;\">\n",
       "      <th></th>\n",
       "      <th>Avg_Area_Income</th>\n",
       "      <th>Avg_Area_House_Age</th>\n",
       "      <th>Avg_Area_Number_of_Rooms</th>\n",
       "      <th>Avg_Area_Number_of_Bedrooms</th>\n",
       "      <th>Area_Population</th>\n",
       "      <th>Price</th>\n",
       "    </tr>\n",
       "  </thead>\n",
       "  <tbody>\n",
       "    <tr>\n",
       "      <th>count</th>\n",
       "      <td>4990.000000</td>\n",
       "      <td>5000.000000</td>\n",
       "      <td>4995.000000</td>\n",
       "      <td>4994.000000</td>\n",
       "      <td>5000.000000</td>\n",
       "      <td>5.000000e+03</td>\n",
       "    </tr>\n",
       "    <tr>\n",
       "      <th>mean</th>\n",
       "      <td>68584.719991</td>\n",
       "      <td>5.977222</td>\n",
       "      <td>6.987693</td>\n",
       "      <td>3.981874</td>\n",
       "      <td>36163.516039</td>\n",
       "      <td>1.232073e+06</td>\n",
       "    </tr>\n",
       "    <tr>\n",
       "      <th>std</th>\n",
       "      <td>10651.192423</td>\n",
       "      <td>0.991456</td>\n",
       "      <td>1.005938</td>\n",
       "      <td>1.234497</td>\n",
       "      <td>9925.650114</td>\n",
       "      <td>3.531176e+05</td>\n",
       "    </tr>\n",
       "    <tr>\n",
       "      <th>min</th>\n",
       "      <td>17796.631190</td>\n",
       "      <td>2.644304</td>\n",
       "      <td>3.236194</td>\n",
       "      <td>2.000000</td>\n",
       "      <td>172.610686</td>\n",
       "      <td>1.593866e+04</td>\n",
       "    </tr>\n",
       "    <tr>\n",
       "      <th>25%</th>\n",
       "      <td>61481.465105</td>\n",
       "      <td>5.322283</td>\n",
       "      <td>6.299156</td>\n",
       "      <td>3.140000</td>\n",
       "      <td>29403.928700</td>\n",
       "      <td>9.975771e+05</td>\n",
       "    </tr>\n",
       "    <tr>\n",
       "      <th>50%</th>\n",
       "      <td>68797.671885</td>\n",
       "      <td>5.970429</td>\n",
       "      <td>7.002940</td>\n",
       "      <td>4.050000</td>\n",
       "      <td>36199.406690</td>\n",
       "      <td>1.232669e+06</td>\n",
       "    </tr>\n",
       "    <tr>\n",
       "      <th>75%</th>\n",
       "      <td>75779.145465</td>\n",
       "      <td>6.650808</td>\n",
       "      <td>7.665622</td>\n",
       "      <td>4.490000</td>\n",
       "      <td>42861.290770</td>\n",
       "      <td>1.471210e+06</td>\n",
       "    </tr>\n",
       "    <tr>\n",
       "      <th>max</th>\n",
       "      <td>107701.748400</td>\n",
       "      <td>9.519088</td>\n",
       "      <td>10.759588</td>\n",
       "      <td>6.500000</td>\n",
       "      <td>69621.713380</td>\n",
       "      <td>2.469066e+06</td>\n",
       "    </tr>\n",
       "  </tbody>\n",
       "</table>\n",
       "</div>"
      ],
      "text/plain": [
       "       Avg_Area_Income  Avg_Area_House_Age  Avg_Area_Number_of_Rooms  \\\n",
       "count      4990.000000         5000.000000               4995.000000   \n",
       "mean      68584.719991            5.977222                  6.987693   \n",
       "std       10651.192423            0.991456                  1.005938   \n",
       "min       17796.631190            2.644304                  3.236194   \n",
       "25%       61481.465105            5.322283                  6.299156   \n",
       "50%       68797.671885            5.970429                  7.002940   \n",
       "75%       75779.145465            6.650808                  7.665622   \n",
       "max      107701.748400            9.519088                 10.759588   \n",
       "\n",
       "       Avg_Area_Number_of_Bedrooms  Area_Population         Price  \n",
       "count                  4994.000000      5000.000000  5.000000e+03  \n",
       "mean                      3.981874     36163.516039  1.232073e+06  \n",
       "std                       1.234497      9925.650114  3.531176e+05  \n",
       "min                       2.000000       172.610686  1.593866e+04  \n",
       "25%                       3.140000     29403.928700  9.975771e+05  \n",
       "50%                       4.050000     36199.406690  1.232669e+06  \n",
       "75%                       4.490000     42861.290770  1.471210e+06  \n",
       "max                       6.500000     69621.713380  2.469066e+06  "
      ]
     },
     "execution_count": 130,
     "metadata": {},
     "output_type": "execute_result"
    }
   ],
   "source": [
    "USAHOUSING.describe()"
   ]
  },
  {
   "cell_type": "code",
   "execution_count": 131,
   "id": "324e26d5-0197-4ea8-a81c-06c5a75786cc",
   "metadata": {},
   "outputs": [],
   "source": [
    "#for i in USAHOUSING.columns:\n",
    " #  print(\"***************\", i, \"***************\")\n",
    "  #  print()\n",
    "   # print(set(USAHOUSING[i].tolist()))"
   ]
  },
  {
   "cell_type": "markdown",
   "id": "8ff5645e-984c-4401-98ad-826e9491aae9",
   "metadata": {},
   "source": [
    "# LABEL ENCODING\n"
   ]
  },
  {
   "cell_type": "code",
   "execution_count": 132,
   "id": "4b0e6b1d-c5f4-44c6-9d19-41a8b67107d0",
   "metadata": {},
   "outputs": [],
   "source": [
    "USAHOUSING['Address'] = USAHOUSING['Address'].astype('category')\n",
    "USAHOUSING['Address'] = USAHOUSING['Address'].cat.codes"
   ]
  },
  {
   "cell_type": "code",
   "execution_count": 20,
   "id": "ff3dbc76-254e-4e62-8840-b85b04f84086",
   "metadata": {},
   "outputs": [
    {
     "data": {
      "text/plain": [
       "0        962\n",
       "1        863\n",
       "2       4069\n",
       "3       4794\n",
       "4       4736\n",
       "        ... \n",
       "4995    4750\n",
       "4996    4636\n",
       "4997    1897\n",
       "4998    4833\n",
       "4999    1703\n",
       "Name: Address, Length: 5000, dtype: int16"
      ]
     },
     "execution_count": 20,
     "metadata": {},
     "output_type": "execute_result"
    }
   ],
   "source": [
    "USAHOUSING['Address'] # here you can see all values change to integer."
   ]
  },
  {
   "cell_type": "code",
   "execution_count": 21,
   "id": "d44236c0-0dd1-4688-a9ca-c70347f0dd21",
   "metadata": {},
   "outputs": [
    {
     "name": "stdout",
     "output_type": "stream",
     "text": [
      "<class 'pandas.core.frame.DataFrame'>\n",
      "RangeIndex: 5000 entries, 0 to 4999\n",
      "Data columns (total 7 columns):\n",
      " #   Column                       Non-Null Count  Dtype  \n",
      "---  ------                       --------------  -----  \n",
      " 0   Avg_Area_Income              4990 non-null   float64\n",
      " 1   Avg_Area_House_Age           5000 non-null   float64\n",
      " 2   Avg_Area_Number_of_Rooms     4995 non-null   float64\n",
      " 3   Avg_Area_Number_of_Bedrooms  4994 non-null   float64\n",
      " 4   Area_Population              5000 non-null   float64\n",
      " 5   Price                        5000 non-null   float64\n",
      " 6   Address                      5000 non-null   int16  \n",
      "dtypes: float64(6), int16(1)\n",
      "memory usage: 244.3 KB\n"
     ]
    }
   ],
   "source": [
    "USAHOUSING.info()"
   ]
  },
  {
   "cell_type": "markdown",
   "id": "e73b794a-b6d4-42ec-b69b-8a1bf9237d89",
   "metadata": {},
   "source": [
    "# ANOVA TESTING TO CHECK SIGNIFICANT VARIABLE"
   ]
  },
  {
   "cell_type": "code",
   "execution_count": 23,
   "id": "e75abedf-a0c8-42bb-b9a7-e2aeea979246",
   "metadata": {},
   "outputs": [
    {
     "name": "stdout",
     "output_type": "stream",
     "text": [
      "                sum_sq      df         F    PR(>F)\n",
      "Address   4.729103e+10     1.0  0.379215  0.538051\n",
      "Residual  6.232883e+14  4998.0       NaN       NaN\n"
     ]
    }
   ],
   "source": [
    "import statsmodels.api as sm\n",
    "from statsmodels.formula.api import ols\n",
    "model = ols('Price ~ Address', data=USAHOUSING).fit()\n",
    "anova_result = sm.stats.anova_lm(model, typ=2)\n",
    "print(anova_result)"
   ]
  },
  {
   "cell_type": "code",
   "execution_count": 24,
   "id": "95750d82-2eb0-4d69-8948-eff1336a3dae",
   "metadata": {},
   "outputs": [
    {
     "name": "stdout",
     "output_type": "stream",
     "text": [
      "                       sum_sq      df            F  PR(>F)\n",
      "Avg_Area_Income  2.546601e+14     1.0  3455.920442     0.0\n",
      "Residual         3.675561e+14  4988.0          NaN     NaN\n"
     ]
    }
   ],
   "source": [
    "import statsmodels.api as sm\n",
    "from statsmodels.formula.api import ols\n",
    "model = ols('Price ~ Avg_Area_Income', data=USAHOUSING).fit()\n",
    "anova_result = sm.stats.anova_lm(model, typ=2)\n",
    "print(anova_result)"
   ]
  },
  {
   "cell_type": "code",
   "execution_count": 25,
   "id": "2ba7f2c3-9f8c-49a4-8ace-af8c7609cd71",
   "metadata": {},
   "outputs": [
    {
     "name": "stdout",
     "output_type": "stream",
     "text": [
      "                       sum_sq      df            F         PR(>F)\n",
      "Area_Population  1.040459e+14     1.0  1001.408749  1.736392e-200\n",
      "Residual         5.192897e+14  4998.0          NaN            NaN\n"
     ]
    }
   ],
   "source": [
    "import statsmodels.api\n",
    "from statsmodels.formula.api import ols\n",
    "model = ols('Price ~ Area_Population', data = USAHOUSING).fit()\n",
    "anova_result = sm.stats.anova_lm(model, typ=2)\n",
    "print(anova_result)"
   ]
  },
  {
   "cell_type": "code",
   "execution_count": 26,
   "id": "94fbfd9c-7ca7-4f02-ba67-77409c6171b0",
   "metadata": {},
   "outputs": [
    {
     "name": "stdout",
     "output_type": "stream",
     "text": [
      "                          sum_sq      df            F         PR(>F)\n",
      "Avg_Area_House_Age  1.276559e+14     1.0  1287.169756  4.944750e-251\n",
      "Residual            4.956797e+14  4998.0          NaN            NaN\n"
     ]
    }
   ],
   "source": [
    "import statsmodels.api\n",
    "from statsmodels.formula.api import ols\n",
    "model = ols('Price ~ Avg_Area_House_Age', data = USAHOUSING).fit()\n",
    "anova_result = sm.stats.anova_lm(model, typ=2)\n",
    "print(anova_result)"
   ]
  },
  {
   "cell_type": "code",
   "execution_count": 27,
   "id": "731aa347-7854-4e65-8233-79f568a24494",
   "metadata": {},
   "outputs": [
    {
     "data": {
      "text/html": [
       "<div>\n",
       "<style scoped>\n",
       "    .dataframe tbody tr th:only-of-type {\n",
       "        vertical-align: middle;\n",
       "    }\n",
       "\n",
       "    .dataframe tbody tr th {\n",
       "        vertical-align: top;\n",
       "    }\n",
       "\n",
       "    .dataframe thead th {\n",
       "        text-align: right;\n",
       "    }\n",
       "</style>\n",
       "<table border=\"1\" class=\"dataframe\">\n",
       "  <thead>\n",
       "    <tr style=\"text-align: right;\">\n",
       "      <th></th>\n",
       "      <th>Avg_Area_Income</th>\n",
       "      <th>Avg_Area_House_Age</th>\n",
       "      <th>Avg_Area_Number_of_Rooms</th>\n",
       "      <th>Avg_Area_Number_of_Bedrooms</th>\n",
       "      <th>Area_Population</th>\n",
       "      <th>Price</th>\n",
       "      <th>Address</th>\n",
       "    </tr>\n",
       "  </thead>\n",
       "  <tbody>\n",
       "    <tr>\n",
       "      <th>count</th>\n",
       "      <td>4990.000000</td>\n",
       "      <td>5000.000000</td>\n",
       "      <td>4995.000000</td>\n",
       "      <td>4994.000000</td>\n",
       "      <td>5000.000000</td>\n",
       "      <td>5.000000e+03</td>\n",
       "      <td>5000.000000</td>\n",
       "    </tr>\n",
       "    <tr>\n",
       "      <th>mean</th>\n",
       "      <td>68584.719991</td>\n",
       "      <td>5.977222</td>\n",
       "      <td>6.987693</td>\n",
       "      <td>3.981874</td>\n",
       "      <td>36163.516039</td>\n",
       "      <td>1.232073e+06</td>\n",
       "      <td>2499.500000</td>\n",
       "    </tr>\n",
       "    <tr>\n",
       "      <th>std</th>\n",
       "      <td>10651.192423</td>\n",
       "      <td>0.991456</td>\n",
       "      <td>1.005938</td>\n",
       "      <td>1.234497</td>\n",
       "      <td>9925.650114</td>\n",
       "      <td>3.531176e+05</td>\n",
       "      <td>1443.520003</td>\n",
       "    </tr>\n",
       "    <tr>\n",
       "      <th>min</th>\n",
       "      <td>17796.631190</td>\n",
       "      <td>2.644304</td>\n",
       "      <td>3.236194</td>\n",
       "      <td>2.000000</td>\n",
       "      <td>172.610686</td>\n",
       "      <td>1.593866e+04</td>\n",
       "      <td>0.000000</td>\n",
       "    </tr>\n",
       "    <tr>\n",
       "      <th>25%</th>\n",
       "      <td>61481.465105</td>\n",
       "      <td>5.322283</td>\n",
       "      <td>6.299156</td>\n",
       "      <td>3.140000</td>\n",
       "      <td>29403.928700</td>\n",
       "      <td>9.975771e+05</td>\n",
       "      <td>1249.750000</td>\n",
       "    </tr>\n",
       "    <tr>\n",
       "      <th>50%</th>\n",
       "      <td>68797.671885</td>\n",
       "      <td>5.970429</td>\n",
       "      <td>7.002940</td>\n",
       "      <td>4.050000</td>\n",
       "      <td>36199.406690</td>\n",
       "      <td>1.232669e+06</td>\n",
       "      <td>2499.500000</td>\n",
       "    </tr>\n",
       "    <tr>\n",
       "      <th>75%</th>\n",
       "      <td>75779.145465</td>\n",
       "      <td>6.650808</td>\n",
       "      <td>7.665622</td>\n",
       "      <td>4.490000</td>\n",
       "      <td>42861.290770</td>\n",
       "      <td>1.471210e+06</td>\n",
       "      <td>3749.250000</td>\n",
       "    </tr>\n",
       "    <tr>\n",
       "      <th>max</th>\n",
       "      <td>107701.748400</td>\n",
       "      <td>9.519088</td>\n",
       "      <td>10.759588</td>\n",
       "      <td>6.500000</td>\n",
       "      <td>69621.713380</td>\n",
       "      <td>2.469066e+06</td>\n",
       "      <td>4999.000000</td>\n",
       "    </tr>\n",
       "  </tbody>\n",
       "</table>\n",
       "</div>"
      ],
      "text/plain": [
       "       Avg_Area_Income  Avg_Area_House_Age  Avg_Area_Number_of_Rooms  \\\n",
       "count      4990.000000         5000.000000               4995.000000   \n",
       "mean      68584.719991            5.977222                  6.987693   \n",
       "std       10651.192423            0.991456                  1.005938   \n",
       "min       17796.631190            2.644304                  3.236194   \n",
       "25%       61481.465105            5.322283                  6.299156   \n",
       "50%       68797.671885            5.970429                  7.002940   \n",
       "75%       75779.145465            6.650808                  7.665622   \n",
       "max      107701.748400            9.519088                 10.759588   \n",
       "\n",
       "       Avg_Area_Number_of_Bedrooms  Area_Population         Price      Address  \n",
       "count                  4994.000000      5000.000000  5.000000e+03  5000.000000  \n",
       "mean                      3.981874     36163.516039  1.232073e+06  2499.500000  \n",
       "std                       1.234497      9925.650114  3.531176e+05  1443.520003  \n",
       "min                       2.000000       172.610686  1.593866e+04     0.000000  \n",
       "25%                       3.140000     29403.928700  9.975771e+05  1249.750000  \n",
       "50%                       4.050000     36199.406690  1.232669e+06  2499.500000  \n",
       "75%                       4.490000     42861.290770  1.471210e+06  3749.250000  \n",
       "max                       6.500000     69621.713380  2.469066e+06  4999.000000  "
      ]
     },
     "execution_count": 27,
     "metadata": {},
     "output_type": "execute_result"
    }
   ],
   "source": [
    "USAHOUSING.describe()"
   ]
  },
  {
   "cell_type": "code",
   "execution_count": 28,
   "id": "5be2f786-7bec-4a52-b3b5-8db9075b2bb1",
   "metadata": {},
   "outputs": [
    {
     "data": {
      "text/plain": [
       "Avg_Area_Income                10\n",
       "Avg_Area_House_Age              0\n",
       "Avg_Area_Number_of_Rooms        5\n",
       "Avg_Area_Number_of_Bedrooms     6\n",
       "Area_Population                 0\n",
       "Price                           0\n",
       "Address                         0\n",
       "dtype: int64"
      ]
     },
     "execution_count": 28,
     "metadata": {},
     "output_type": "execute_result"
    }
   ],
   "source": [
    "USAHOUSING.isnull().sum()"
   ]
  },
  {
   "cell_type": "code",
   "execution_count": 29,
   "id": "cae075b1-18ac-4668-ab53-b7c155045a7f",
   "metadata": {},
   "outputs": [
    {
     "data": {
      "text/plain": [
       "Avg_Area_Income                0.20\n",
       "Avg_Area_House_Age             0.00\n",
       "Avg_Area_Number_of_Rooms       0.10\n",
       "Avg_Area_Number_of_Bedrooms    0.12\n",
       "Area_Population                0.00\n",
       "Price                          0.00\n",
       "Address                        0.00\n",
       "dtype: float64"
      ]
     },
     "execution_count": 29,
     "metadata": {},
     "output_type": "execute_result"
    }
   ],
   "source": [
    "USAHOUSING.isnull().sum()/len(USAHOUSING)*100"
   ]
  },
  {
   "cell_type": "markdown",
   "id": "c3f978e2-8924-4119-87fd-bcfedab78c1c",
   "metadata": {},
   "source": [
    "# Check outliers and BOX PLOTS"
   ]
  },
  {
   "cell_type": "code",
   "execution_count": 31,
   "id": "f5c28dfd-aad7-41d1-9675-7a9753521212",
   "metadata": {},
   "outputs": [
    {
     "data": {
      "image/png": "[encoded data removed]",
      "text/plain": [
       "<Figure size 640x480 with 1 Axes>"
      ]
     },
     "metadata": {},
     "output_type": "display_data"
    }
   ],
   "source": [
    "sns.boxplot(y = 'Avg_Area_Income' , data=USAHOUSING)\n",
    "plt.show()"
   ]
  },
  {
   "cell_type": "code",
   "execution_count": 32,
   "id": "7ee2dfcd-d440-4ef8-8a9e-beb8a8150812",
   "metadata": {},
   "outputs": [
    {
     "data": {
      "image/png": "[encoded data removed]",
      "text/plain": [
       "<Figure size 640x480 with 1 Axes>"
      ]
     },
     "metadata": {},
     "output_type": "display_data"
    }
   ],
   "source": [
    "sns.boxplot(y = 'Avg_Area_Number_of_Rooms' , data=USAHOUSING)\n",
    "plt.show()"
   ]
  },
  {
   "cell_type": "code",
   "execution_count": 33,
   "id": "703684cf-4df2-4362-99c0-ed53de12e1d8",
   "metadata": {},
   "outputs": [
    {
     "data": {
      "image/png": "[encoded data removed]",
      "text/plain": [
       "<Figure size 640x480 with 1 Axes>"
      ]
     },
     "metadata": {},
     "output_type": "display_data"
    }
   ],
   "source": [
    "sns.boxplot(y = 'Avg_Area_Number_of_Bedrooms' , data=USAHOUSING)\n",
    "plt.show()"
   ]
  },
  {
   "cell_type": "markdown",
   "id": "94512efc-8fa8-4294-a61a-d6dd497203bf",
   "metadata": {},
   "source": [
    "# FILLING OF MISSING VALUES"
   ]
  },
  {
   "cell_type": "code",
   "execution_count": 35,
   "id": "e15edb69-e72c-430b-8572-1ef04ca5c6e8",
   "metadata": {},
   "outputs": [],
   "source": [
    "USAHOUSING['Avg_Area_Income'] = USAHOUSING['Avg_Area_Income'].fillna(USAHOUSING['Avg_Area_Income'].median())"
   ]
  },
  {
   "cell_type": "code",
   "execution_count": 36,
   "id": "ff88ea89-2239-45d9-b9fa-e1e08917b411",
   "metadata": {},
   "outputs": [],
   "source": [
    "USAHOUSING['Avg_Area_Number_of_Rooms'] = USAHOUSING['Avg_Area_Number_of_Rooms'].fillna(USAHOUSING['Avg_Area_Number_of_Rooms'].median())"
   ]
  },
  {
   "cell_type": "code",
   "execution_count": 37,
   "id": "b63c3d92-ca55-4986-b19f-a61fa1a22b4f",
   "metadata": {},
   "outputs": [],
   "source": [
    "USAHOUSING['Avg_Area_Number_of_Bedrooms'] = USAHOUSING['Avg_Area_Number_of_Bedrooms'].fillna(USAHOUSING['Avg_Area_Number_of_Bedrooms'].median())"
   ]
  },
  {
   "cell_type": "code",
   "execution_count": 38,
   "id": "1cd0f092-5196-4082-bddb-125b9365c339",
   "metadata": {},
   "outputs": [
    {
     "data": {
      "text/plain": [
       "Avg_Area_Income                0\n",
       "Avg_Area_House_Age             0\n",
       "Avg_Area_Number_of_Rooms       0\n",
       "Avg_Area_Number_of_Bedrooms    0\n",
       "Area_Population                0\n",
       "Price                          0\n",
       "Address                        0\n",
       "dtype: int64"
      ]
     },
     "execution_count": 38,
     "metadata": {},
     "output_type": "execute_result"
    }
   ],
   "source": [
    "USAHOUSING.isnull().sum()"
   ]
  },
  {
   "cell_type": "code",
   "execution_count": 39,
   "id": "ef5b87e9-79ec-4f78-bed7-bb33e38a6f83",
   "metadata": {
    "scrolled": true
   },
   "outputs": [
    {
     "data": {
      "text/html": [
       "<div>\n",
       "<style scoped>\n",
       "    .dataframe tbody tr th:only-of-type {\n",
       "        vertical-align: middle;\n",
       "    }\n",
       "\n",
       "    .dataframe tbody tr th {\n",
       "        vertical-align: top;\n",
       "    }\n",
       "\n",
       "    .dataframe thead th {\n",
       "        text-align: right;\n",
       "    }\n",
       "</style>\n",
       "<table border=\"1\" class=\"dataframe\">\n",
       "  <thead>\n",
       "    <tr style=\"text-align: right;\">\n",
       "      <th></th>\n",
       "      <th>Avg_Area_Income</th>\n",
       "      <th>Avg_Area_House_Age</th>\n",
       "      <th>Avg_Area_Number_of_Rooms</th>\n",
       "      <th>Avg_Area_Number_of_Bedrooms</th>\n",
       "      <th>Area_Population</th>\n",
       "      <th>Price</th>\n",
       "      <th>Address</th>\n",
       "    </tr>\n",
       "  </thead>\n",
       "  <tbody>\n",
       "    <tr>\n",
       "      <th>0</th>\n",
       "      <td>79545.45857</td>\n",
       "      <td>5.682861</td>\n",
       "      <td>7.009188</td>\n",
       "      <td>4.09</td>\n",
       "      <td>23086.80050</td>\n",
       "      <td>1.059034e+06</td>\n",
       "      <td>962</td>\n",
       "    </tr>\n",
       "    <tr>\n",
       "      <th>1</th>\n",
       "      <td>79248.64245</td>\n",
       "      <td>6.002900</td>\n",
       "      <td>6.730821</td>\n",
       "      <td>3.09</td>\n",
       "      <td>40173.07217</td>\n",
       "      <td>1.505891e+06</td>\n",
       "      <td>863</td>\n",
       "    </tr>\n",
       "    <tr>\n",
       "      <th>2</th>\n",
       "      <td>61287.06718</td>\n",
       "      <td>5.865890</td>\n",
       "      <td>8.512727</td>\n",
       "      <td>5.13</td>\n",
       "      <td>36882.15940</td>\n",
       "      <td>1.058988e+06</td>\n",
       "      <td>4069</td>\n",
       "    </tr>\n",
       "    <tr>\n",
       "      <th>3</th>\n",
       "      <td>63345.24005</td>\n",
       "      <td>7.188236</td>\n",
       "      <td>5.586729</td>\n",
       "      <td>3.26</td>\n",
       "      <td>34310.24283</td>\n",
       "      <td>1.260617e+06</td>\n",
       "      <td>4794</td>\n",
       "    </tr>\n",
       "    <tr>\n",
       "      <th>4</th>\n",
       "      <td>59982.19723</td>\n",
       "      <td>5.040555</td>\n",
       "      <td>7.839388</td>\n",
       "      <td>4.23</td>\n",
       "      <td>26354.10947</td>\n",
       "      <td>6.309435e+05</td>\n",
       "      <td>4736</td>\n",
       "    </tr>\n",
       "  </tbody>\n",
       "</table>\n",
       "</div>"
      ],
      "text/plain": [
       "   Avg_Area_Income  Avg_Area_House_Age  Avg_Area_Number_of_Rooms  \\\n",
       "0      79545.45857            5.682861                  7.009188   \n",
       "1      79248.64245            6.002900                  6.730821   \n",
       "2      61287.06718            5.865890                  8.512727   \n",
       "3      63345.24005            7.188236                  5.586729   \n",
       "4      59982.19723            5.040555                  7.839388   \n",
       "\n",
       "   Avg_Area_Number_of_Bedrooms  Area_Population         Price  Address  \n",
       "0                         4.09      23086.80050  1.059034e+06      962  \n",
       "1                         3.09      40173.07217  1.505891e+06      863  \n",
       "2                         5.13      36882.15940  1.058988e+06     4069  \n",
       "3                         3.26      34310.24283  1.260617e+06     4794  \n",
       "4                         4.23      26354.10947  6.309435e+05     4736  "
      ]
     },
     "execution_count": 39,
     "metadata": {},
     "output_type": "execute_result"
    }
   ],
   "source": [
    "USAHOUSING.head()"
   ]
  },
  {
   "cell_type": "markdown",
   "id": "0bc65852-2288-49ad-a011-1708d60e21b6",
   "metadata": {},
   "source": [
    "# DROPING A COLUMN"
   ]
  },
  {
   "cell_type": "markdown",
   "id": "6b87c26c-bf17-4947-bab3-f92341c427f9",
   "metadata": {},
   "source": [
    "### USAHOUSING = USAHOUSING.drop(columns=['Address']) #Method-1\n",
    "### USAHOUSING = USAHOUSING.iloc[:,0:-1]  #-1 means last column #Method-2"
   ]
  },
  {
   "cell_type": "code",
   "execution_count": 42,
   "id": "cbac5ce8-a392-441c-a83b-7f3f71747dc4",
   "metadata": {},
   "outputs": [],
   "source": [
    "USAHOUSING = USAHOUSING.iloc[:,0:-1] #Method-2 #-1 means last column"
   ]
  },
  {
   "cell_type": "code",
   "execution_count": 43,
   "id": "82ad24ba-6be9-4855-96e4-328719042256",
   "metadata": {},
   "outputs": [
    {
     "data": {
      "text/html": [
       "<div>\n",
       "<style scoped>\n",
       "    .dataframe tbody tr th:only-of-type {\n",
       "        vertical-align: middle;\n",
       "    }\n",
       "\n",
       "    .dataframe tbody tr th {\n",
       "        vertical-align: top;\n",
       "    }\n",
       "\n",
       "    .dataframe thead th {\n",
       "        text-align: right;\n",
       "    }\n",
       "</style>\n",
       "<table border=\"1\" class=\"dataframe\">\n",
       "  <thead>\n",
       "    <tr style=\"text-align: right;\">\n",
       "      <th></th>\n",
       "      <th>Avg_Area_Income</th>\n",
       "      <th>Avg_Area_House_Age</th>\n",
       "      <th>Avg_Area_Number_of_Rooms</th>\n",
       "      <th>Avg_Area_Number_of_Bedrooms</th>\n",
       "      <th>Area_Population</th>\n",
       "      <th>Price</th>\n",
       "    </tr>\n",
       "  </thead>\n",
       "  <tbody>\n",
       "    <tr>\n",
       "      <th>0</th>\n",
       "      <td>79545.45857</td>\n",
       "      <td>5.682861</td>\n",
       "      <td>7.009188</td>\n",
       "      <td>4.09</td>\n",
       "      <td>23086.80050</td>\n",
       "      <td>1.059034e+06</td>\n",
       "    </tr>\n",
       "    <tr>\n",
       "      <th>1</th>\n",
       "      <td>79248.64245</td>\n",
       "      <td>6.002900</td>\n",
       "      <td>6.730821</td>\n",
       "      <td>3.09</td>\n",
       "      <td>40173.07217</td>\n",
       "      <td>1.505891e+06</td>\n",
       "    </tr>\n",
       "    <tr>\n",
       "      <th>2</th>\n",
       "      <td>61287.06718</td>\n",
       "      <td>5.865890</td>\n",
       "      <td>8.512727</td>\n",
       "      <td>5.13</td>\n",
       "      <td>36882.15940</td>\n",
       "      <td>1.058988e+06</td>\n",
       "    </tr>\n",
       "    <tr>\n",
       "      <th>3</th>\n",
       "      <td>63345.24005</td>\n",
       "      <td>7.188236</td>\n",
       "      <td>5.586729</td>\n",
       "      <td>3.26</td>\n",
       "      <td>34310.24283</td>\n",
       "      <td>1.260617e+06</td>\n",
       "    </tr>\n",
       "    <tr>\n",
       "      <th>4</th>\n",
       "      <td>59982.19723</td>\n",
       "      <td>5.040555</td>\n",
       "      <td>7.839388</td>\n",
       "      <td>4.23</td>\n",
       "      <td>26354.10947</td>\n",
       "      <td>6.309435e+05</td>\n",
       "    </tr>\n",
       "  </tbody>\n",
       "</table>\n",
       "</div>"
      ],
      "text/plain": [
       "   Avg_Area_Income  Avg_Area_House_Age  Avg_Area_Number_of_Rooms  \\\n",
       "0      79545.45857            5.682861                  7.009188   \n",
       "1      79248.64245            6.002900                  6.730821   \n",
       "2      61287.06718            5.865890                  8.512727   \n",
       "3      63345.24005            7.188236                  5.586729   \n",
       "4      59982.19723            5.040555                  7.839388   \n",
       "\n",
       "   Avg_Area_Number_of_Bedrooms  Area_Population         Price  \n",
       "0                         4.09      23086.80050  1.059034e+06  \n",
       "1                         3.09      40173.07217  1.505891e+06  \n",
       "2                         5.13      36882.15940  1.058988e+06  \n",
       "3                         3.26      34310.24283  1.260617e+06  \n",
       "4                         4.23      26354.10947  6.309435e+05  "
      ]
     },
     "execution_count": 43,
     "metadata": {},
     "output_type": "execute_result"
    }
   ],
   "source": [
    "USAHOUSING.head()"
   ]
  },
  {
   "cell_type": "code",
   "execution_count": 44,
   "id": "8a824051-6896-4a77-abdd-656d624f3fa5",
   "metadata": {},
   "outputs": [],
   "source": [
    "#Distribution plots"
   ]
  },
  {
   "cell_type": "code",
   "execution_count": 45,
   "id": "fa73dadb-613e-41ce-bc36-a2d75fdb1d04",
   "metadata": {},
   "outputs": [],
   "source": [
    "def distplots(col):\n",
    "    sns.distplot(USAHOUSING[col])\n",
    "    plt.show()"
   ]
  },
  {
   "cell_type": "code",
   "execution_count": 46,
   "id": "39ec3df9-1c8d-4329-8ffb-be29e4862ad9",
   "metadata": {},
   "outputs": [
    {
     "data": {
      "image/png": "[encoded data removed]",
      "text/plain": [
       "<Figure size 640x480 with 1 Axes>"
      ]
     },
     "metadata": {},
     "output_type": "display_data"
    },
    {
     "data": {
      "image/png": "[encoded data removed]",
      "text/plain": [
       "<Figure size 640x480 with 1 Axes>"
      ]
     },
     "metadata": {},
     "output_type": "display_data"
    },
    {
     "data": {
      "image/png": "[encoded data removed]",
      "text/plain": [
       "<Figure size 640x480 with 1 Axes>"
      ]
     },
     "metadata": {},
     "output_type": "display_data"
    },
    {
     "data": {
      "image/png": "[encoded data removed]",
      "text/plain": [
       "<Figure size 640x480 with 1 Axes>"
      ]
     },
     "metadata": {},
     "output_type": "display_data"
    },
    {
     "data": {
      "image/png": "[encoded data removed]",
      "text/plain": [
       "<Figure size 640x480 with 1 Axes>"
      ]
     },
     "metadata": {},
     "output_type": "display_data"
    },
    {
     "data": {
      "image/png": "[encoded data removed]",
      "text/plain": [
       "<Figure size 640x480 with 1 Axes>"
      ]
     },
     "metadata": {},
     "output_type": "display_data"
    }
   ],
   "source": [
    "for i in list(USAHOUSING.columns)[0:]:\n",
    "    distplots(i)"
   ]
  },
  {
   "cell_type": "code",
   "execution_count": 47,
   "id": "364180e8-f0a3-4c73-b0cb-3e052135c92d",
   "metadata": {},
   "outputs": [],
   "source": [
    "#To view the outliers we use boxplot"
   ]
  },
  {
   "cell_type": "code",
   "execution_count": 48,
   "id": "9cc53981-d612-4a9b-8b72-00434b5ab629",
   "metadata": {},
   "outputs": [],
   "source": [
    "def boxplots(col):\n",
    "        sns.boxplot(USAHOUSING[col])\n",
    "        plt.xlabel(col)\n",
    "        plt.show()"
   ]
  },
  {
   "cell_type": "code",
   "execution_count": 49,
   "id": "3222542d-a75f-4fcc-8b15-a853aaee9bb4",
   "metadata": {},
   "outputs": [
    {
     "data": {
      "image/png": "[encoded data removed]",
      "text/plain": [
       "<Figure size 640x480 with 1 Axes>"
      ]
     },
     "metadata": {},
     "output_type": "display_data"
    },
    {
     "data": {
      "image/png": "[encoded data removed]",
      "text/plain": [
       "<Figure size 640x480 with 1 Axes>"
      ]
     },
     "metadata": {},
     "output_type": "display_data"
    },
    {
     "data": {
      "image/png": "[encoded data removed]",
      "text/plain": [
       "<Figure size 640x480 with 1 Axes>"
      ]
     },
     "metadata": {},
     "output_type": "display_data"
    },
    {
     "data": {
      "image/png": "[encoded data removed]",
      "text/plain": [
       "<Figure size 640x480 with 1 Axes>"
      ]
     },
     "metadata": {},
     "output_type": "display_data"
    },
    {
     "data": {
      "image/png": "[encoded data removed]",
      "text/plain": [
       "<Figure size 640x480 with 1 Axes>"
      ]
     },
     "metadata": {},
     "output_type": "display_data"
    },
    {
     "data": {
      "image/png": "[encoded data removed]",
      "text/plain": [
       "<Figure size 640x480 with 1 Axes>"
      ]
     },
     "metadata": {},
     "output_type": "display_data"
    }
   ],
   "source": [
    "for i in list(USAHOUSING.select_dtypes(exclude=['object']).columns)[0:]:\n",
    "    boxplots(i)"
   ]
  },
  {
   "cell_type": "markdown",
   "id": "fa88c516-cc09-4061-aac0-17e6414c3447",
   "metadata": {},
   "source": [
    "### -->FIND Q1.Q3,IQR, UPPER LIMIT, LOWER LIMIT to handle outliers"
   ]
  },
  {
   "cell_type": "code",
   "execution_count": 50,
   "id": "3094629d-4365-4755-93ec-b3b40b50de2d",
   "metadata": {},
   "outputs": [],
   "source": [
    "Q1= USAHOUSING.quantile(0.25)\n",
    "Q3= USAHOUSING.quantile(0.75)\n",
    "IQR=Q3-Q1\n",
    "Upper_limit=Q3+1.5*IQR\n",
    "Lower_limit=Q1-1.5*IQR\n"
   ]
  },
  {
   "cell_type": "code",
   "execution_count": 51,
   "id": "96fede36-5c3f-4e51-89d1-90d9098a1319",
   "metadata": {},
   "outputs": [
    {
     "name": "stdout",
     "output_type": "stream",
     "text": [
      "Q1\n",
      "Avg_Area_Income                 61485.150192\n",
      "Avg_Area_House_Age                  5.322283\n",
      "Avg_Area_Number_of_Rooms            6.299692\n",
      "Avg_Area_Number_of_Bedrooms         3.140000\n",
      "Area_Population                 29403.928700\n",
      "Price                          997577.135075\n",
      "Name: 0.25, dtype: float64\n",
      "*************************\n",
      "Q3\n",
      "Avg_Area_Income                7.576652e+04\n",
      "Avg_Area_House_Age             6.650808e+00\n",
      "Avg_Area_Number_of_Rooms       7.665281e+00\n",
      "Avg_Area_Number_of_Bedrooms    4.490000e+00\n",
      "Area_Population                4.286129e+04\n",
      "Price                          1.471210e+06\n",
      "Name: 0.75, dtype: float64\n",
      "*************************\n",
      "IQR\n",
      "Avg_Area_Income                 14281.368910\n",
      "Avg_Area_House_Age                  1.328525\n",
      "Avg_Area_Number_of_Rooms            1.365589\n",
      "Avg_Area_Number_of_Bedrooms         1.350000\n",
      "Area_Population                 13457.362070\n",
      "Price                          473633.069425\n",
      "dtype: float64\n",
      "*************************\n",
      "Upper_limit\n",
      "Avg_Area_Income                9.718857e+04\n",
      "Avg_Area_House_Age             8.643597e+00\n",
      "Avg_Area_Number_of_Rooms       9.713664e+00\n",
      "Avg_Area_Number_of_Bedrooms    6.515000e+00\n",
      "Area_Population                6.304733e+04\n",
      "Price                          2.181660e+06\n",
      "dtype: float64\n",
      "*************************\n",
      "Lower_limit\n",
      "Avg_Area_Income                 40063.096827\n",
      "Avg_Area_House_Age                  3.329495\n",
      "Avg_Area_Number_of_Rooms            4.251308\n",
      "Avg_Area_Number_of_Bedrooms         1.115000\n",
      "Area_Population                  9217.885595\n",
      "Price                          287127.530937\n",
      "dtype: float64\n",
      "*************************\n"
     ]
    }
   ],
   "source": [
    "print('Q1')\n",
    "print(Q1)\n",
    "print('*****'*5)\n",
    "print('Q3')\n",
    "print(Q3)\n",
    "print('*****'*5)\n",
    "print('IQR')\n",
    "print(IQR)\n",
    "print('*****'*5)\n",
    "print('Upper_limit')\n",
    "print(Upper_limit)\n",
    "print('*****'*5)\n",
    "print('Lower_limit')\n",
    "print(Lower_limit)\n",
    "print('*****'*5)"
   ]
  },
  {
   "cell_type": "markdown",
   "id": "8dd1f4e1-a2d6-4fbe-9aab-b83f84a8d7f1",
   "metadata": {},
   "source": [
    "### -->CREATING A COPY OF THE DATASET"
   ]
  },
  {
   "cell_type": "code",
   "execution_count": 52,
   "id": "42abb058-4928-415d-8315-e761873709a1",
   "metadata": {},
   "outputs": [],
   "source": [
    "New_USAHOUSING= USAHOUSING.copy()"
   ]
  },
  {
   "cell_type": "code",
   "execution_count": 53,
   "id": "a07d8171-4240-4438-8f9e-e3e509e6b681",
   "metadata": {},
   "outputs": [
    {
     "data": {
      "text/plain": [
       "Index(['Avg_Area_Income', 'Avg_Area_House_Age', 'Avg_Area_Number_of_Rooms',\n",
       "       'Avg_Area_Number_of_Bedrooms', 'Area_Population', 'Price'],\n",
       "      dtype='object')"
      ]
     },
     "execution_count": 53,
     "metadata": {},
     "output_type": "execute_result"
    }
   ],
   "source": [
    "New_USAHOUSING.columns"
   ]
  },
  {
   "cell_type": "markdown",
   "id": "b71536e7-75e5-491d-8c21-b3ccb79374d5",
   "metadata": {},
   "source": [
    "### -->USE CAPPING MEHTOD TO HANDLE OUTLIER IN"
   ]
  },
  {
   "cell_type": "code",
   "execution_count": 54,
   "id": "36230164-76fa-4829-ae0a-8e1da62f450c",
   "metadata": {},
   "outputs": [],
   "source": [
    "Income_Q1 = New_USAHOUSING['Avg_Area_Income'].quantile(0.25)\n",
    "Income_Q3 = New_USAHOUSING['Avg_Area_Income'].quantile(0.75)\n",
    "Income_IQR=Income_Q3-Income_Q1\n",
    "Income_Upper=Income_Q3+1.5*Income_IQR\n",
    "Income_Lower=Income_Q1-1.5*Income_IQR"
   ]
  },
  {
   "cell_type": "code",
   "execution_count": 55,
   "id": "0bc1b175-fa2c-4f5e-bacd-0f5567a04447",
   "metadata": {},
   "outputs": [],
   "source": [
    "New_USAHOUSING['Avg_Area_Income'] = np.where(\n",
    "    New_USAHOUSING['Avg_Area_Income'] > Income_Upper, Income_Upper,\n",
    "    np.where(\n",
    "        New_USAHOUSING['Avg_Area_Income'] < Income_Lower, Income_Lower,\n",
    "        New_USAHOUSING['Avg_Area_Income']\n",
    "    )\n",
    ")"
   ]
  },
  {
   "cell_type": "code",
   "execution_count": 56,
   "id": "200fe2ab-7923-46c0-998f-c4a448eab379",
   "metadata": {},
   "outputs": [],
   "source": [
    "Age_Q1 = New_USAHOUSING['Avg_Area_House_Age'].quantile(0.25)\n",
    "Age_Q3 = New_USAHOUSING['Avg_Area_House_Age'].quantile(0.75)\n",
    "Age_IQR = Age_Q3 - Age_Q1\n",
    "\n",
    "Age_Upper = Age_Q3 + 1.5 * Age_IQR\n",
    "Age_Lower = Age_Q1 - 1.5 * Age_IQR\n",
    "\n"
   ]
  },
  {
   "cell_type": "code",
   "execution_count": 57,
   "id": "1e395c7b-519a-4e7e-8b41-97dbf2f2a29d",
   "metadata": {},
   "outputs": [],
   "source": [
    "New_USAHOUSING['Avg_Area_House_Age'] = np.where(\n",
    "    New_USAHOUSING['Avg_Area_House_Age'] > Age_Upper, Age_Upper,\n",
    "    np.where(\n",
    "        New_USAHOUSING['Avg_Area_House_Age'] < Age_Lower, Age_Lower,\n",
    "        New_USAHOUSING['Avg_Area_House_Age']\n",
    "    )\n",
    ")"
   ]
  },
  {
   "cell_type": "code",
   "execution_count": 58,
   "id": "07d2eead-4135-4257-b816-19b19730060d",
   "metadata": {},
   "outputs": [],
   "source": [
    "Number_of_Rooms_Q1 = New_USAHOUSING['Avg_Area_Number_of_Rooms'].quantile(0.25)\n",
    "Number_of_Rooms_Q3 = New_USAHOUSING['Avg_Area_Number_of_Rooms'].quantile(0.75)\n",
    "Number_of_Rooms_IQR = Number_of_Rooms_Q3 - Number_of_Rooms_Q1\n",
    "Number_of_Rooms_Upper =Number_of_Rooms_Q3 + Number_of_Rooms_IQR*1.5\n",
    "Number_of_Rooms_Lower = Number_of_Rooms_Q1 - Number_of_Rooms_IQR*1.5"
   ]
  },
  {
   "cell_type": "code",
   "execution_count": 59,
   "id": "3c6a76ab-3396-4dc4-893c-c86cae875553",
   "metadata": {},
   "outputs": [],
   "source": [
    "New_USAHOUSING['Avg_Area_Number_of_Rooms'] = np.where(New_USAHOUSING['Avg_Area_Number_of_Rooms']>Number_of_Rooms_Upper,Number_of_Rooms_Upper, \n",
    "                                              np.where(New_USAHOUSING['Avg_Area_Number_of_Rooms']<Number_of_Rooms_Lower ,Number_of_Rooms_Lower ,\n",
    "                                                       New_USAHOUSING['Avg_Area_Number_of_Rooms']))"
   ]
  },
  {
   "cell_type": "code",
   "execution_count": 60,
   "id": "2951d984-1865-416f-b234-94ff38f92d01",
   "metadata": {},
   "outputs": [],
   "source": [
    "Population_Q1 = New_USAHOUSING['Area_Population'].quantile(0.25)\n",
    "Population_Q3 = New_USAHOUSING['Area_Population'].quantile(0.75)\n",
    "Population_IQR = Population_Q3 - Population_Q1\n",
    "Population_Upper =Population_Q3 + Population_IQR*1.5\n",
    "Population_Lower = Population_Q1 - Population_IQR*1.5"
   ]
  },
  {
   "cell_type": "code",
   "execution_count": 61,
   "id": "a9c9f941-838b-481c-b3a3-adbd9b56c49f",
   "metadata": {},
   "outputs": [],
   "source": [
    "New_USAHOUSING['Area_Population'] = np.where(New_USAHOUSING['Area_Population']>Population_Upper,Population_Upper, \n",
    "                                              np.where(New_USAHOUSING['Area_Population']<Population_Lower ,Population_Lower ,\n",
    "                                                       New_USAHOUSING['Area_Population']))"
   ]
  },
  {
   "cell_type": "code",
   "execution_count": 62,
   "id": "21dbdf95-4495-40ed-8316-b206855725d9",
   "metadata": {},
   "outputs": [
    {
     "data": {
      "text/html": [
       "<div>\n",
       "<style scoped>\n",
       "    .dataframe tbody tr th:only-of-type {\n",
       "        vertical-align: middle;\n",
       "    }\n",
       "\n",
       "    .dataframe tbody tr th {\n",
       "        vertical-align: top;\n",
       "    }\n",
       "\n",
       "    .dataframe thead th {\n",
       "        text-align: right;\n",
       "    }\n",
       "</style>\n",
       "<table border=\"1\" class=\"dataframe\">\n",
       "  <thead>\n",
       "    <tr style=\"text-align: right;\">\n",
       "      <th></th>\n",
       "      <th>Avg_Area_Income</th>\n",
       "      <th>Avg_Area_House_Age</th>\n",
       "      <th>Avg_Area_Number_of_Rooms</th>\n",
       "      <th>Avg_Area_Number_of_Bedrooms</th>\n",
       "      <th>Area_Population</th>\n",
       "      <th>Price</th>\n",
       "    </tr>\n",
       "  </thead>\n",
       "  <tbody>\n",
       "    <tr>\n",
       "      <th>count</th>\n",
       "      <td>5000.000000</td>\n",
       "      <td>5000.000000</td>\n",
       "      <td>5000.000000</td>\n",
       "      <td>5000.000000</td>\n",
       "      <td>5000.000000</td>\n",
       "      <td>5.000000e+03</td>\n",
       "    </tr>\n",
       "    <tr>\n",
       "      <th>mean</th>\n",
       "      <td>68587.479539</td>\n",
       "      <td>5.977490</td>\n",
       "      <td>6.987540</td>\n",
       "      <td>3.981956</td>\n",
       "      <td>36159.070769</td>\n",
       "      <td>1.232073e+06</td>\n",
       "    </tr>\n",
       "    <tr>\n",
       "      <th>std</th>\n",
       "      <td>10574.362055</td>\n",
       "      <td>0.986995</td>\n",
       "      <td>1.001419</td>\n",
       "      <td>1.233758</td>\n",
       "      <td>9862.221143</td>\n",
       "      <td>3.531176e+05</td>\n",
       "    </tr>\n",
       "    <tr>\n",
       "      <th>min</th>\n",
       "      <td>40063.096827</td>\n",
       "      <td>3.329495</td>\n",
       "      <td>4.251308</td>\n",
       "      <td>2.000000</td>\n",
       "      <td>9217.885595</td>\n",
       "      <td>1.593866e+04</td>\n",
       "    </tr>\n",
       "    <tr>\n",
       "      <th>25%</th>\n",
       "      <td>61485.150192</td>\n",
       "      <td>5.322283</td>\n",
       "      <td>6.299692</td>\n",
       "      <td>3.140000</td>\n",
       "      <td>29403.928700</td>\n",
       "      <td>9.975771e+05</td>\n",
       "    </tr>\n",
       "    <tr>\n",
       "      <th>50%</th>\n",
       "      <td>68797.671885</td>\n",
       "      <td>5.970429</td>\n",
       "      <td>7.002940</td>\n",
       "      <td>4.050000</td>\n",
       "      <td>36199.406690</td>\n",
       "      <td>1.232669e+06</td>\n",
       "    </tr>\n",
       "    <tr>\n",
       "      <th>75%</th>\n",
       "      <td>75766.519103</td>\n",
       "      <td>6.650808</td>\n",
       "      <td>7.665281</td>\n",
       "      <td>4.490000</td>\n",
       "      <td>42861.290770</td>\n",
       "      <td>1.471210e+06</td>\n",
       "    </tr>\n",
       "    <tr>\n",
       "      <th>max</th>\n",
       "      <td>97188.572468</td>\n",
       "      <td>8.643597</td>\n",
       "      <td>9.713664</td>\n",
       "      <td>6.500000</td>\n",
       "      <td>63047.333875</td>\n",
       "      <td>2.469066e+06</td>\n",
       "    </tr>\n",
       "  </tbody>\n",
       "</table>\n",
       "</div>"
      ],
      "text/plain": [
       "       Avg_Area_Income  Avg_Area_House_Age  Avg_Area_Number_of_Rooms  \\\n",
       "count      5000.000000         5000.000000               5000.000000   \n",
       "mean      68587.479539            5.977490                  6.987540   \n",
       "std       10574.362055            0.986995                  1.001419   \n",
       "min       40063.096827            3.329495                  4.251308   \n",
       "25%       61485.150192            5.322283                  6.299692   \n",
       "50%       68797.671885            5.970429                  7.002940   \n",
       "75%       75766.519103            6.650808                  7.665281   \n",
       "max       97188.572468            8.643597                  9.713664   \n",
       "\n",
       "       Avg_Area_Number_of_Bedrooms  Area_Population         Price  \n",
       "count                  5000.000000      5000.000000  5.000000e+03  \n",
       "mean                      3.981956     36159.070769  1.232073e+06  \n",
       "std                       1.233758      9862.221143  3.531176e+05  \n",
       "min                       2.000000      9217.885595  1.593866e+04  \n",
       "25%                       3.140000     29403.928700  9.975771e+05  \n",
       "50%                       4.050000     36199.406690  1.232669e+06  \n",
       "75%                       4.490000     42861.290770  1.471210e+06  \n",
       "max                       6.500000     63047.333875  2.469066e+06  "
      ]
     },
     "execution_count": 62,
     "metadata": {},
     "output_type": "execute_result"
    }
   ],
   "source": [
    "New_USAHOUSING.describe()"
   ]
  },
  {
   "cell_type": "code",
   "execution_count": 63,
   "id": "9f1ec01b-5569-4a38-94df-fe9c277465f8",
   "metadata": {},
   "outputs": [
    {
     "data": {
      "text/html": [
       "<div>\n",
       "<style scoped>\n",
       "    .dataframe tbody tr th:only-of-type {\n",
       "        vertical-align: middle;\n",
       "    }\n",
       "\n",
       "    .dataframe tbody tr th {\n",
       "        vertical-align: top;\n",
       "    }\n",
       "\n",
       "    .dataframe thead th {\n",
       "        text-align: right;\n",
       "    }\n",
       "</style>\n",
       "<table border=\"1\" class=\"dataframe\">\n",
       "  <thead>\n",
       "    <tr style=\"text-align: right;\">\n",
       "      <th></th>\n",
       "      <th>Avg_Area_Income</th>\n",
       "      <th>Avg_Area_House_Age</th>\n",
       "      <th>Avg_Area_Number_of_Rooms</th>\n",
       "      <th>Avg_Area_Number_of_Bedrooms</th>\n",
       "      <th>Area_Population</th>\n",
       "      <th>Price</th>\n",
       "    </tr>\n",
       "  </thead>\n",
       "  <tbody>\n",
       "    <tr>\n",
       "      <th>count</th>\n",
       "      <td>5000.000000</td>\n",
       "      <td>5000.000000</td>\n",
       "      <td>5000.000000</td>\n",
       "      <td>5000.000000</td>\n",
       "      <td>5000.000000</td>\n",
       "      <td>5.000000e+03</td>\n",
       "    </tr>\n",
       "    <tr>\n",
       "      <th>mean</th>\n",
       "      <td>68585.145895</td>\n",
       "      <td>5.977222</td>\n",
       "      <td>6.987708</td>\n",
       "      <td>3.981956</td>\n",
       "      <td>36163.516039</td>\n",
       "      <td>1.232073e+06</td>\n",
       "    </tr>\n",
       "    <tr>\n",
       "      <th>std</th>\n",
       "      <td>10640.538021</td>\n",
       "      <td>0.991456</td>\n",
       "      <td>1.005435</td>\n",
       "      <td>1.233758</td>\n",
       "      <td>9925.650114</td>\n",
       "      <td>3.531176e+05</td>\n",
       "    </tr>\n",
       "    <tr>\n",
       "      <th>min</th>\n",
       "      <td>17796.631190</td>\n",
       "      <td>2.644304</td>\n",
       "      <td>3.236194</td>\n",
       "      <td>2.000000</td>\n",
       "      <td>172.610686</td>\n",
       "      <td>1.593866e+04</td>\n",
       "    </tr>\n",
       "    <tr>\n",
       "      <th>25%</th>\n",
       "      <td>61485.150192</td>\n",
       "      <td>5.322283</td>\n",
       "      <td>6.299692</td>\n",
       "      <td>3.140000</td>\n",
       "      <td>29403.928700</td>\n",
       "      <td>9.975771e+05</td>\n",
       "    </tr>\n",
       "    <tr>\n",
       "      <th>50%</th>\n",
       "      <td>68797.671885</td>\n",
       "      <td>5.970429</td>\n",
       "      <td>7.002940</td>\n",
       "      <td>4.050000</td>\n",
       "      <td>36199.406690</td>\n",
       "      <td>1.232669e+06</td>\n",
       "    </tr>\n",
       "    <tr>\n",
       "      <th>75%</th>\n",
       "      <td>75766.519103</td>\n",
       "      <td>6.650808</td>\n",
       "      <td>7.665281</td>\n",
       "      <td>4.490000</td>\n",
       "      <td>42861.290770</td>\n",
       "      <td>1.471210e+06</td>\n",
       "    </tr>\n",
       "    <tr>\n",
       "      <th>max</th>\n",
       "      <td>107701.748400</td>\n",
       "      <td>9.519088</td>\n",
       "      <td>10.759588</td>\n",
       "      <td>6.500000</td>\n",
       "      <td>69621.713380</td>\n",
       "      <td>2.469066e+06</td>\n",
       "    </tr>\n",
       "  </tbody>\n",
       "</table>\n",
       "</div>"
      ],
      "text/plain": [
       "       Avg_Area_Income  Avg_Area_House_Age  Avg_Area_Number_of_Rooms  \\\n",
       "count      5000.000000         5000.000000               5000.000000   \n",
       "mean      68585.145895            5.977222                  6.987708   \n",
       "std       10640.538021            0.991456                  1.005435   \n",
       "min       17796.631190            2.644304                  3.236194   \n",
       "25%       61485.150192            5.322283                  6.299692   \n",
       "50%       68797.671885            5.970429                  7.002940   \n",
       "75%       75766.519103            6.650808                  7.665281   \n",
       "max      107701.748400            9.519088                 10.759588   \n",
       "\n",
       "       Avg_Area_Number_of_Bedrooms  Area_Population         Price  \n",
       "count                  5000.000000      5000.000000  5.000000e+03  \n",
       "mean                      3.981956     36163.516039  1.232073e+06  \n",
       "std                       1.233758      9925.650114  3.531176e+05  \n",
       "min                       2.000000       172.610686  1.593866e+04  \n",
       "25%                       3.140000     29403.928700  9.975771e+05  \n",
       "50%                       4.050000     36199.406690  1.232669e+06  \n",
       "75%                       4.490000     42861.290770  1.471210e+06  \n",
       "max                       6.500000     69621.713380  2.469066e+06  "
      ]
     },
     "execution_count": 63,
     "metadata": {},
     "output_type": "execute_result"
    }
   ],
   "source": [
    "USAHOUSING.describe()"
   ]
  },
  {
   "cell_type": "markdown",
   "id": "367fe7b1-7716-43d5-b7e5-23168f57dcd8",
   "metadata": {},
   "source": [
    "### ---> Again check the outliers"
   ]
  },
  {
   "cell_type": "code",
   "execution_count": 65,
   "id": "815dd2ed-56b3-46ca-96f7-2ee9f1db9d17",
   "metadata": {},
   "outputs": [
    {
     "data": {
      "image/png": "[encoded data removed]",
      "text/plain": [
       "<Figure size 640x480 with 1 Axes>"
      ]
     },
     "metadata": {},
     "output_type": "display_data"
    },
    {
     "data": {
      "image/png": "[encoded data removed]",
      "text/plain": [
       "<Figure size 640x480 with 1 Axes>"
      ]
     },
     "metadata": {},
     "output_type": "display_data"
    },
    {
     "data": {
      "image/png": "[encoded data removed]",
      "text/plain": [
       "<Figure size 640x480 with 1 Axes>"
      ]
     },
     "metadata": {},
     "output_type": "display_data"
    },
    {
     "data": {
      "image/png": "[encoded data removed]",
      "text/plain": [
       "<Figure size 640x480 with 1 Axes>"
      ]
     },
     "metadata": {},
     "output_type": "display_data"
    },
    {
     "data": {
      "image/png": "[encoded data removed]",
      "text/plain": [
       "<Figure size 640x480 with 1 Axes>"
      ]
     },
     "metadata": {},
     "output_type": "display_data"
    },
    {
     "data": {
      "image/png": "[encoded data removed]",
      "text/plain": [
       "<Figure size 640x480 with 1 Axes>"
      ]
     },
     "metadata": {},
     "output_type": "display_data"
    }
   ],
   "source": [
    "def boxplots(col):\n",
    "    sns.boxplot(New_USAHOUSING[col])\n",
    "    plt.xlabel(col)\n",
    "    plt.show()\n",
    "\n",
    "for i in list(New_USAHOUSING.select_dtypes(exclude =['object']).columns)[0:]:\n",
    "    boxplots(i)"
   ]
  },
  {
   "cell_type": "markdown",
   "id": "75442a67-1282-429e-b151-7639e7050f26",
   "metadata": {},
   "source": [
    "#### ---->>> FEATURE SCALING: Very important while using graident descent approach how ever give poor result with OLS approach.\n",
    "#### ----> Distance-based algorithms (e.g., KNN, SVM) perform better with scaled features because they compute distances based on feature values. \n",
    "#### ----> If the features are on different scales, the algorithm might bias towards features with larger scales.\n",
    "#### -Feature scaling is a crucial preprocessing step in machine learning that transforms the features of your data so that they are on a similar scale.\n",
    "#### ---->This can improve the performance and convergence speed of many algorithms.\n",
    "#### ----->ONLY WITH INDEPENDENT VARIABLE\n",
    "#### ----->FIRST SPLIT DATA INTO DEPENDENT AND INDEPENDENT VARIABLE\n"
   ]
  },
  {
   "cell_type": "code",
   "execution_count": 66,
   "id": "9ce6bfe4-f4a0-4829-9727-16e2f77ff7d6",
   "metadata": {},
   "outputs": [],
   "source": [
    "x = New_USAHOUSING.iloc[:,0:-1]\n",
    "y = New_USAHOUSING['Price']"
   ]
  },
  {
   "cell_type": "markdown",
   "id": "9cf59a8c-a268-41fb-a998-de81f11343e5",
   "metadata": {},
   "source": [
    "#### ----->>>> Another approach to split \n",
    "#### -----> x = New_USAHOUSING.drop('Price',axis = 1)\n",
    "#### ------> y = New_USAHOUSING[['Price']]"
   ]
  },
  {
   "cell_type": "code",
   "execution_count": 67,
   "id": "de566184-0a6c-4600-94cd-a01ab9fc7258",
   "metadata": {},
   "outputs": [
    {
     "data": {
      "text/html": [
       "<div>\n",
       "<style scoped>\n",
       "    .dataframe tbody tr th:only-of-type {\n",
       "        vertical-align: middle;\n",
       "    }\n",
       "\n",
       "    .dataframe tbody tr th {\n",
       "        vertical-align: top;\n",
       "    }\n",
       "\n",
       "    .dataframe thead th {\n",
       "        text-align: right;\n",
       "    }\n",
       "</style>\n",
       "<table border=\"1\" class=\"dataframe\">\n",
       "  <thead>\n",
       "    <tr style=\"text-align: right;\">\n",
       "      <th></th>\n",
       "      <th>Avg_Area_Income</th>\n",
       "      <th>Avg_Area_House_Age</th>\n",
       "      <th>Avg_Area_Number_of_Rooms</th>\n",
       "      <th>Avg_Area_Number_of_Bedrooms</th>\n",
       "      <th>Area_Population</th>\n",
       "    </tr>\n",
       "  </thead>\n",
       "  <tbody>\n",
       "    <tr>\n",
       "      <th>0</th>\n",
       "      <td>79545.45857</td>\n",
       "      <td>5.682861</td>\n",
       "      <td>7.009188</td>\n",
       "      <td>4.09</td>\n",
       "      <td>23086.80050</td>\n",
       "    </tr>\n",
       "    <tr>\n",
       "      <th>1</th>\n",
       "      <td>79248.64245</td>\n",
       "      <td>6.002900</td>\n",
       "      <td>6.730821</td>\n",
       "      <td>3.09</td>\n",
       "      <td>40173.07217</td>\n",
       "    </tr>\n",
       "    <tr>\n",
       "      <th>2</th>\n",
       "      <td>61287.06718</td>\n",
       "      <td>5.865890</td>\n",
       "      <td>8.512727</td>\n",
       "      <td>5.13</td>\n",
       "      <td>36882.15940</td>\n",
       "    </tr>\n",
       "    <tr>\n",
       "      <th>3</th>\n",
       "      <td>63345.24005</td>\n",
       "      <td>7.188236</td>\n",
       "      <td>5.586729</td>\n",
       "      <td>3.26</td>\n",
       "      <td>34310.24283</td>\n",
       "    </tr>\n",
       "    <tr>\n",
       "      <th>4</th>\n",
       "      <td>59982.19723</td>\n",
       "      <td>5.040555</td>\n",
       "      <td>7.839388</td>\n",
       "      <td>4.23</td>\n",
       "      <td>26354.10947</td>\n",
       "    </tr>\n",
       "  </tbody>\n",
       "</table>\n",
       "</div>"
      ],
      "text/plain": [
       "   Avg_Area_Income  Avg_Area_House_Age  Avg_Area_Number_of_Rooms  \\\n",
       "0      79545.45857            5.682861                  7.009188   \n",
       "1      79248.64245            6.002900                  6.730821   \n",
       "2      61287.06718            5.865890                  8.512727   \n",
       "3      63345.24005            7.188236                  5.586729   \n",
       "4      59982.19723            5.040555                  7.839388   \n",
       "\n",
       "   Avg_Area_Number_of_Bedrooms  Area_Population  \n",
       "0                         4.09      23086.80050  \n",
       "1                         3.09      40173.07217  \n",
       "2                         5.13      36882.15940  \n",
       "3                         3.26      34310.24283  \n",
       "4                         4.23      26354.10947  "
      ]
     },
     "execution_count": 67,
     "metadata": {},
     "output_type": "execute_result"
    }
   ],
   "source": [
    "x.head()"
   ]
  },
  {
   "cell_type": "code",
   "execution_count": 68,
   "id": "06fb7125-9a38-4b3f-978f-8bcbc65278e4",
   "metadata": {},
   "outputs": [
    {
     "data": {
      "text/plain": [
       "0    1.059034e+06\n",
       "1    1.505891e+06\n",
       "2    1.058988e+06\n",
       "3    1.260617e+06\n",
       "4    6.309435e+05\n",
       "Name: Price, dtype: float64"
      ]
     },
     "execution_count": 68,
     "metadata": {},
     "output_type": "execute_result"
    }
   ],
   "source": [
    "y.head()"
   ]
  },
  {
   "cell_type": "markdown",
   "id": "b017472b-fbe8-4b4f-a6b5-d3e8cdc07989",
   "metadata": {},
   "source": [
    "#### ------> Understanding fit(), transform(), and fit_transform()\n",
    "#### -----> fit(X):\n",
    "This method computes the parameters (such as mean and standard deviation in the case of standard scaling) required for the transformation.\n",
    "For example, if you are using StandardScaler from scikit-learn, fit() calculates the mean and standard deviation of the dataset X.\n",
    "\n",
    "#### -----> transform(X):\n",
    "This method applies the transformation using the parameters computed by fit().\n",
    "For StandardScaler, transform() uses the mean and standard deviation computed during fit() to standardize the dataset X.\n",
    "\n",
    "#### -----> fit_transform(X):\n",
    "This method combines the two steps. It first computes the parameters using fit(), and then applies the transformation using transform().\n",
    "It is a convenient way to perform both operations in one step."
   ]
  },
  {
   "cell_type": "code",
   "execution_count": 69,
   "id": "f56d3956-63c7-4ba2-b45e-3189605cf876",
   "metadata": {},
   "outputs": [
    {
     "data": {
      "text/html": [
       "<div>\n",
       "<style scoped>\n",
       "    .dataframe tbody tr th:only-of-type {\n",
       "        vertical-align: middle;\n",
       "    }\n",
       "\n",
       "    .dataframe tbody tr th {\n",
       "        vertical-align: top;\n",
       "    }\n",
       "\n",
       "    .dataframe thead th {\n",
       "        text-align: right;\n",
       "    }\n",
       "</style>\n",
       "<table border=\"1\" class=\"dataframe\">\n",
       "  <thead>\n",
       "    <tr style=\"text-align: right;\">\n",
       "      <th></th>\n",
       "      <th>0</th>\n",
       "      <th>1</th>\n",
       "      <th>2</th>\n",
       "      <th>3</th>\n",
       "      <th>4</th>\n",
       "    </tr>\n",
       "  </thead>\n",
       "  <tbody>\n",
       "    <tr>\n",
       "      <th>0</th>\n",
       "      <td>1.036382</td>\n",
       "      <td>-0.298541</td>\n",
       "      <td>0.021620</td>\n",
       "      <td>0.087582</td>\n",
       "      <td>-1.325622</td>\n",
       "    </tr>\n",
       "    <tr>\n",
       "      <th>1</th>\n",
       "      <td>1.008309</td>\n",
       "      <td>0.025747</td>\n",
       "      <td>-0.256381</td>\n",
       "      <td>-0.723031</td>\n",
       "      <td>0.407049</td>\n",
       "    </tr>\n",
       "    <tr>\n",
       "      <th>2</th>\n",
       "      <td>-0.690457</td>\n",
       "      <td>-0.113082</td>\n",
       "      <td>1.523179</td>\n",
       "      <td>0.930619</td>\n",
       "      <td>0.073326</td>\n",
       "    </tr>\n",
       "    <tr>\n",
       "      <th>3</th>\n",
       "      <td>-0.495800</td>\n",
       "      <td>1.226822</td>\n",
       "      <td>-1.398967</td>\n",
       "      <td>-0.585227</td>\n",
       "      <td>-0.187484</td>\n",
       "    </tr>\n",
       "    <tr>\n",
       "      <th>4</th>\n",
       "      <td>-0.813869</td>\n",
       "      <td>-0.949376</td>\n",
       "      <td>0.850726</td>\n",
       "      <td>0.201068</td>\n",
       "      <td>-0.994293</td>\n",
       "    </tr>\n",
       "    <tr>\n",
       "      <th>...</th>\n",
       "      <td>...</td>\n",
       "      <td>...</td>\n",
       "      <td>...</td>\n",
       "      <td>...</td>\n",
       "      <td>...</td>\n",
       "    </tr>\n",
       "    <tr>\n",
       "      <th>4995</th>\n",
       "      <td>-0.758470</td>\n",
       "      <td>1.877474</td>\n",
       "      <td>-0.849064</td>\n",
       "      <td>-0.423104</td>\n",
       "      <td>-1.350917</td>\n",
       "    </tr>\n",
       "    <tr>\n",
       "      <th>4996</th>\n",
       "      <td>0.936679</td>\n",
       "      <td>1.035210</td>\n",
       "      <td>-0.410236</td>\n",
       "      <td>0.030839</td>\n",
       "      <td>-1.069131</td>\n",
       "    </tr>\n",
       "    <tr>\n",
       "      <th>4997</th>\n",
       "      <td>-0.491501</td>\n",
       "      <td>1.290004</td>\n",
       "      <td>-2.179585</td>\n",
       "      <td>-1.501219</td>\n",
       "      <td>-0.293363</td>\n",
       "    </tr>\n",
       "    <tr>\n",
       "      <th>4998</th>\n",
       "      <td>-0.055437</td>\n",
       "      <td>-0.448985</td>\n",
       "      <td>0.142416</td>\n",
       "      <td>1.181909</td>\n",
       "      <td>0.655755</td>\n",
       "    </tr>\n",
       "    <tr>\n",
       "      <th>4999</th>\n",
       "      <td>-0.291006</td>\n",
       "      <td>0.015012</td>\n",
       "      <td>-0.194947</td>\n",
       "      <td>0.071370</td>\n",
       "      <td>1.048775</td>\n",
       "    </tr>\n",
       "  </tbody>\n",
       "</table>\n",
       "<p>5000 rows × 5 columns</p>\n",
       "</div>"
      ],
      "text/plain": [
       "             0         1         2         3         4\n",
       "0     1.036382 -0.298541  0.021620  0.087582 -1.325622\n",
       "1     1.008309  0.025747 -0.256381 -0.723031  0.407049\n",
       "2    -0.690457 -0.113082  1.523179  0.930619  0.073326\n",
       "3    -0.495800  1.226822 -1.398967 -0.585227 -0.187484\n",
       "4    -0.813869 -0.949376  0.850726  0.201068 -0.994293\n",
       "...        ...       ...       ...       ...       ...\n",
       "4995 -0.758470  1.877474 -0.849064 -0.423104 -1.350917\n",
       "4996  0.936679  1.035210 -0.410236  0.030839 -1.069131\n",
       "4997 -0.491501  1.290004 -2.179585 -1.501219 -0.293363\n",
       "4998 -0.055437 -0.448985  0.142416  1.181909  0.655755\n",
       "4999 -0.291006  0.015012 -0.194947  0.071370  1.048775\n",
       "\n",
       "[5000 rows x 5 columns]"
      ]
     },
     "execution_count": 69,
     "metadata": {},
     "output_type": "execute_result"
    }
   ],
   "source": [
    "from sklearn.preprocessing import StandardScaler\n",
    "sc = StandardScaler()\n",
    "sc_x = sc.fit_transform(x)\n",
    "pd.DataFrame(sc_x)"
   ]
  },
  {
   "cell_type": "markdown",
   "id": "10e3018c-9f8a-4fae-bc96-ae38a11d4911",
   "metadata": {},
   "source": [
    "#### -----> Find Correlation to check multicolinearity.\n",
    "#### -----> if value is greater than 0.75 or 0.8, drop than column. As it is highly corelated\n",
    "#### -----> If any of two independent variables have same value than drop any one with discussion by SME. As it leads to multicolinearity.\n",
    "#### -----> In classification problem no need to check multicolinearity."
   ]
  },
  {
   "cell_type": "code",
   "execution_count": 70,
   "id": "b1f51056-da4c-4dac-9c62-608ad92ea963",
   "metadata": {},
   "outputs": [
    {
     "data": {
      "image/png": "[encoded data removed]",
      "text/plain": [
       "<Figure size 1000x600 with 2 Axes>"
      ]
     },
     "metadata": {},
     "output_type": "display_data"
    }
   ],
   "source": [
    "import matplotlib.pyplot as plt\n",
    "import seaborn as sns\n",
    "\n",
    "plt.figure(figsize=(10, 6))  # Set the figure size\n",
    "corr = New_USAHOUSING.corr()  # Calculate the correlation matrix\n",
    "sns.heatmap(corr, annot=True, cmap='coolwarm')  # Create a heatmap with annotations and a 'coolwarm' color map\n",
    "plt.xticks(rotation=65)  # Rotate x-axis labels by 65 degrees\n",
    "plt.show()  # Display the plot\n"
   ]
  },
  {
   "cell_type": "markdown",
   "id": "d89a2f51-dd01-4998-9ab1-b51bc8e63882",
   "metadata": {},
   "source": [
    "#### ----->  Variance_Inflation_Factor(VIF) is another approach to check multicolinearity other than heat map\n",
    "#### -----> VIF- Variance Inflation Factor to check multicolinearity\n",
    "#### ------> VIF should be <= 5\n",
    "#### ------> VIF = 1/(1-R*2) # Also called coefficient of determination"
   ]
  },
  {
   "cell_type": "code",
   "execution_count": 71,
   "id": "7bf81a42-9f4a-4c37-9600-15ffd2a10c87",
   "metadata": {},
   "outputs": [
    {
     "data": {
      "text/plain": [
       "(5000, 5)"
      ]
     },
     "execution_count": 71,
     "metadata": {},
     "output_type": "execute_result"
    }
   ],
   "source": [
    "variable = sc_x\n",
    "variable.shape"
   ]
  },
  {
   "cell_type": "code",
   "execution_count": 72,
   "id": "af83ae6d-cb7e-4886-89af-1dfe222e4bcb",
   "metadata": {},
   "outputs": [],
   "source": [
    "from statsmodels.stats.outliers_influence import variance_inflation_factor\n",
    "variable = sc_x\n",
    "vif = pd.DataFrame()\n",
    "vif['Variance_Inflation_Factor']=[variance_inflation_factor(variable,i) for i in range(variable.shape[1])]\n",
    "vif['Features'] = x.columns\n"
   ]
  },
  {
   "cell_type": "code",
   "execution_count": 73,
   "id": "1eee4ed4-ddfd-42d5-b4dc-c398efe5069b",
   "metadata": {},
   "outputs": [
    {
     "data": {
      "text/html": [
       "<div>\n",
       "<style scoped>\n",
       "    .dataframe tbody tr th:only-of-type {\n",
       "        vertical-align: middle;\n",
       "    }\n",
       "\n",
       "    .dataframe tbody tr th {\n",
       "        vertical-align: top;\n",
       "    }\n",
       "\n",
       "    .dataframe thead th {\n",
       "        text-align: right;\n",
       "    }\n",
       "</style>\n",
       "<table border=\"1\" class=\"dataframe\">\n",
       "  <thead>\n",
       "    <tr style=\"text-align: right;\">\n",
       "      <th></th>\n",
       "      <th>Variance_Inflation_Factor</th>\n",
       "      <th>Features</th>\n",
       "    </tr>\n",
       "  </thead>\n",
       "  <tbody>\n",
       "    <tr>\n",
       "      <th>0</th>\n",
       "      <td>1.001067</td>\n",
       "      <td>Avg_Area_Income</td>\n",
       "    </tr>\n",
       "    <tr>\n",
       "      <th>1</th>\n",
       "      <td>1.000593</td>\n",
       "      <td>Avg_Area_House_Age</td>\n",
       "    </tr>\n",
       "    <tr>\n",
       "      <th>2</th>\n",
       "      <td>1.274864</td>\n",
       "      <td>Avg_Area_Number_of_Rooms</td>\n",
       "    </tr>\n",
       "    <tr>\n",
       "      <th>3</th>\n",
       "      <td>1.275727</td>\n",
       "      <td>Avg_Area_Number_of_Bedrooms</td>\n",
       "    </tr>\n",
       "    <tr>\n",
       "      <th>4</th>\n",
       "      <td>1.001144</td>\n",
       "      <td>Area_Population</td>\n",
       "    </tr>\n",
       "  </tbody>\n",
       "</table>\n",
       "</div>"
      ],
      "text/plain": [
       "   Variance_Inflation_Factor                     Features\n",
       "0                   1.001067              Avg_Area_Income\n",
       "1                   1.000593           Avg_Area_House_Age\n",
       "2                   1.274864     Avg_Area_Number_of_Rooms\n",
       "3                   1.275727  Avg_Area_Number_of_Bedrooms\n",
       "4                   1.001144              Area_Population"
      ]
     },
     "execution_count": 73,
     "metadata": {},
     "output_type": "execute_result"
    }
   ],
   "source": [
    "vif"
   ]
  },
  {
   "cell_type": "markdown",
   "id": "94eead9d-02d1-462f-9ec6-63979954af66",
   "metadata": {},
   "source": [
    "#### ----->>>> Since for any variable VIF is less than 5 so there is no multicolinearity. So one Assumption satisified.\n",
    "#### ----->  SPLIT THE DATA INTO TRAINING AND TEST for model building and prediction"
   ]
  },
  {
   "cell_type": "code",
   "execution_count": 74,
   "id": "d3126291-7058-4246-893c-bea962839517",
   "metadata": {},
   "outputs": [
    {
     "name": "stdout",
     "output_type": "stream",
     "text": [
      "(3750, 5) (1250, 5) (3750,) (1250,)\n"
     ]
    }
   ],
   "source": [
    "from sklearn.model_selection import train_test_split\n",
    "x_train,x_test,y_train,y_test = train_test_split(x,y,test_size = 0.25,random_state = 101)\n",
    "print(x_train.shape,x_test.shape,y_train.shape,y_test.shape)"
   ]
  },
  {
   "cell_type": "markdown",
   "id": "f9ff332f-47eb-4119-b159-289b5039f506",
   "metadata": {},
   "source": [
    "#### ------> BUILD THE MODEL\n",
    "\n",
    "#### -----> APPROACH 1 : Linear Regression"
   ]
  },
  {
   "cell_type": "code",
   "execution_count": 75,
   "id": "9422492c-437c-4204-8ff1-0dd44078cdde",
   "metadata": {},
   "outputs": [
    {
     "data": {
      "text/html": [
       "<style>#sk-container-id-1 {\n",
       "  /* Definition of color scheme common for light and dark mode */\n",
       "  --sklearn-color-text: black;\n",
       "  --sklearn-color-line: gray;\n",
       "  /* Definition of color scheme for unfitted estimators */\n",
       "  --sklearn-color-unfitted-level-0: #fff5e6;\n",
       "  --sklearn-color-unfitted-level-1: #f6e4d2;\n",
       "  --sklearn-color-unfitted-level-2: #ffe0b3;\n",
       "  --sklearn-color-unfitted-level-3: chocolate;\n",
       "  /* Definition of color scheme for fitted estimators */\n",
       "  --sklearn-color-fitted-level-0: #f0f8ff;\n",
       "  --sklearn-color-fitted-level-1: #d4ebff;\n",
       "  --sklearn-color-fitted-level-2: #b3dbfd;\n",
       "  --sklearn-color-fitted-level-3: cornflowerblue;\n",
       "\n",
       "  /* Specific color for light theme */\n",
       "  --sklearn-color-text-on-default-background: var(--sg-text-color, var(--theme-code-foreground, var(--jp-content-font-color1, black)));\n",
       "  --sklearn-color-background: var(--sg-background-color, var(--theme-background, var(--jp-layout-color0, white)));\n",
       "  --sklearn-color-border-box: var(--sg-text-color, var(--theme-code-foreground, var(--jp-content-font-color1, black)));\n",
       "  --sklearn-color-icon: #696969;\n",
       "\n",
       "  @media (prefers-color-scheme: dark) {\n",
       "    /* Redefinition of color scheme for dark theme */\n",
       "    --sklearn-color-text-on-default-background: var(--sg-text-color, var(--theme-code-foreground, var(--jp-content-font-color1, white)));\n",
       "    --sklearn-color-background: var(--sg-background-color, var(--theme-background, var(--jp-layout-color0, #111)));\n",
       "    --sklearn-color-border-box: var(--sg-text-color, var(--theme-code-foreground, var(--jp-content-font-color1, white)));\n",
       "    --sklearn-color-icon: #878787;\n",
       "  }\n",
       "}\n",
       "\n",
       "#sk-container-id-1 {\n",
       "  color: var(--sklearn-color-text);\n",
       "}\n",
       "\n",
       "#sk-container-id-1 pre {\n",
       "  padding: 0;\n",
       "}\n",
       "\n",
       "#sk-container-id-1 input.sk-hidden--visually {\n",
       "  border: 0;\n",
       "  clip: rect(1px 1px 1px 1px);\n",
       "  clip: rect(1px, 1px, 1px, 1px);\n",
       "  height: 1px;\n",
       "  margin: -1px;\n",
       "  overflow: hidden;\n",
       "  padding: 0;\n",
       "  position: absolute;\n",
       "  width: 1px;\n",
       "}\n",
       "\n",
       "#sk-container-id-1 div.sk-dashed-wrapped {\n",
       "  border: 1px dashed var(--sklearn-color-line);\n",
       "  margin: 0 0.4em 0.5em 0.4em;\n",
       "  box-sizing: border-box;\n",
       "  padding-bottom: 0.4em;\n",
       "  background-color: var(--sklearn-color-background);\n",
       "}\n",
       "\n",
       "#sk-container-id-1 div.sk-container {\n",
       "  /* jupyter's `normalize.less` sets `[hidden] { display: none; }`\n",
       "     but bootstrap.min.css set `[hidden] { display: none !important; }`\n",
       "     so we also need the `!important` here to be able to override the\n",
       "     default hidden behavior on the sphinx rendered scikit-learn.org.\n",
       "     See: https://github.com/scikit-learn/scikit-learn/issues/21755 */\n",
       "  display: inline-block !important;\n",
       "  position: relative;\n",
       "}\n",
       "\n",
       "#sk-container-id-1 div.sk-text-repr-fallback {\n",
       "  display: none;\n",
       "}\n",
       "\n",
       "div.sk-parallel-item,\n",
       "div.sk-serial,\n",
       "div.sk-item {\n",
       "  /* draw centered vertical line to link estimators */\n",
       "  background-image: linear-gradient(var(--sklearn-color-text-on-default-background), var(--sklearn-color-text-on-default-background));\n",
       "  background-size: 2px 100%;\n",
       "  background-repeat: no-repeat;\n",
       "  background-position: center center;\n",
       "}\n",
       "\n",
       "/* Parallel-specific style estimator block */\n",
       "\n",
       "#sk-container-id-1 div.sk-parallel-item::after {\n",
       "  content: \"\";\n",
       "  width: 100%;\n",
       "  border-bottom: 2px solid var(--sklearn-color-text-on-default-background);\n",
       "  flex-grow: 1;\n",
       "}\n",
       "\n",
       "#sk-container-id-1 div.sk-parallel {\n",
       "  display: flex;\n",
       "  align-items: stretch;\n",
       "  justify-content: center;\n",
       "  background-color: var(--sklearn-color-background);\n",
       "  position: relative;\n",
       "}\n",
       "\n",
       "#sk-container-id-1 div.sk-parallel-item {\n",
       "  display: flex;\n",
       "  flex-direction: column;\n",
       "}\n",
       "\n",
       "#sk-container-id-1 div.sk-parallel-item:first-child::after {\n",
       "  align-self: flex-end;\n",
       "  width: 50%;\n",
       "}\n",
       "\n",
       "#sk-container-id-1 div.sk-parallel-item:last-child::after {\n",
       "  align-self: flex-start;\n",
       "  width: 50%;\n",
       "}\n",
       "\n",
       "#sk-container-id-1 div.sk-parallel-item:only-child::after {\n",
       "  width: 0;\n",
       "}\n",
       "\n",
       "/* Serial-specific style estimator block */\n",
       "\n",
       "#sk-container-id-1 div.sk-serial {\n",
       "  display: flex;\n",
       "  flex-direction: column;\n",
       "  align-items: center;\n",
       "  background-color: var(--sklearn-color-background);\n",
       "  padding-right: 1em;\n",
       "  padding-left: 1em;\n",
       "}\n",
       "\n",
       "\n",
       "/* Toggleable style: style used for estimator/Pipeline/ColumnTransformer box that is\n",
       "clickable and can be expanded/collapsed.\n",
       "- Pipeline and ColumnTransformer use this feature and define the default style\n",
       "- Estimators will overwrite some part of the style using the `sk-estimator` class\n",
       "*/\n",
       "\n",
       "/* Pipeline and ColumnTransformer style (default) */\n",
       "\n",
       "#sk-container-id-1 div.sk-toggleable {\n",
       "  /* Default theme specific background. It is overwritten whether we have a\n",
       "  specific estimator or a Pipeline/ColumnTransformer */\n",
       "  background-color: var(--sklearn-color-background);\n",
       "}\n",
       "\n",
       "/* Toggleable label */\n",
       "#sk-container-id-1 label.sk-toggleable__label {\n",
       "  cursor: pointer;\n",
       "  display: block;\n",
       "  width: 100%;\n",
       "  margin-bottom: 0;\n",
       "  padding: 0.5em;\n",
       "  box-sizing: border-box;\n",
       "  text-align: center;\n",
       "}\n",
       "\n",
       "#sk-container-id-1 label.sk-toggleable__label-arrow:before {\n",
       "  /* Arrow on the left of the label */\n",
       "  content: \"▸\";\n",
       "  float: left;\n",
       "  margin-right: 0.25em;\n",
       "  color: var(--sklearn-color-icon);\n",
       "}\n",
       "\n",
       "#sk-container-id-1 label.sk-toggleable__label-arrow:hover:before {\n",
       "  color: var(--sklearn-color-text);\n",
       "}\n",
       "\n",
       "/* Toggleable content - dropdown */\n",
       "\n",
       "#sk-container-id-1 div.sk-toggleable__content {\n",
       "  max-height: 0;\n",
       "  max-width: 0;\n",
       "  overflow: hidden;\n",
       "  text-align: left;\n",
       "  /* unfitted */\n",
       "  background-color: var(--sklearn-color-unfitted-level-0);\n",
       "}\n",
       "\n",
       "#sk-container-id-1 div.sk-toggleable__content.fitted {\n",
       "  /* fitted */\n",
       "  background-color: var(--sklearn-color-fitted-level-0);\n",
       "}\n",
       "\n",
       "#sk-container-id-1 div.sk-toggleable__content pre {\n",
       "  margin: 0.2em;\n",
       "  border-radius: 0.25em;\n",
       "  color: var(--sklearn-color-text);\n",
       "  /* unfitted */\n",
       "  background-color: var(--sklearn-color-unfitted-level-0);\n",
       "}\n",
       "\n",
       "#sk-container-id-1 div.sk-toggleable__content.fitted pre {\n",
       "  /* unfitted */\n",
       "  background-color: var(--sklearn-color-fitted-level-0);\n",
       "}\n",
       "\n",
       "#sk-container-id-1 input.sk-toggleable__control:checked~div.sk-toggleable__content {\n",
       "  /* Expand drop-down */\n",
       "  max-height: 200px;\n",
       "  max-width: 100%;\n",
       "  overflow: auto;\n",
       "}\n",
       "\n",
       "#sk-container-id-1 input.sk-toggleable__control:checked~label.sk-toggleable__label-arrow:before {\n",
       "  content: \"▾\";\n",
       "}\n",
       "\n",
       "/* Pipeline/ColumnTransformer-specific style */\n",
       "\n",
       "#sk-container-id-1 div.sk-label input.sk-toggleable__control:checked~label.sk-toggleable__label {\n",
       "  color: var(--sklearn-color-text);\n",
       "  background-color: var(--sklearn-color-unfitted-level-2);\n",
       "}\n",
       "\n",
       "#sk-container-id-1 div.sk-label.fitted input.sk-toggleable__control:checked~label.sk-toggleable__label {\n",
       "  background-color: var(--sklearn-color-fitted-level-2);\n",
       "}\n",
       "\n",
       "/* Estimator-specific style */\n",
       "\n",
       "/* Colorize estimator box */\n",
       "#sk-container-id-1 div.sk-estimator input.sk-toggleable__control:checked~label.sk-toggleable__label {\n",
       "  /* unfitted */\n",
       "  background-color: var(--sklearn-color-unfitted-level-2);\n",
       "}\n",
       "\n",
       "#sk-container-id-1 div.sk-estimator.fitted input.sk-toggleable__control:checked~label.sk-toggleable__label {\n",
       "  /* fitted */\n",
       "  background-color: var(--sklearn-color-fitted-level-2);\n",
       "}\n",
       "\n",
       "#sk-container-id-1 div.sk-label label.sk-toggleable__label,\n",
       "#sk-container-id-1 div.sk-label label {\n",
       "  /* The background is the default theme color */\n",
       "  color: var(--sklearn-color-text-on-default-background);\n",
       "}\n",
       "\n",
       "/* On hover, darken the color of the background */\n",
       "#sk-container-id-1 div.sk-label:hover label.sk-toggleable__label {\n",
       "  color: var(--sklearn-color-text);\n",
       "  background-color: var(--sklearn-color-unfitted-level-2);\n",
       "}\n",
       "\n",
       "/* Label box, darken color on hover, fitted */\n",
       "#sk-container-id-1 div.sk-label.fitted:hover label.sk-toggleable__label.fitted {\n",
       "  color: var(--sklearn-color-text);\n",
       "  background-color: var(--sklearn-color-fitted-level-2);\n",
       "}\n",
       "\n",
       "/* Estimator label */\n",
       "\n",
       "#sk-container-id-1 div.sk-label label {\n",
       "  font-family: monospace;\n",
       "  font-weight: bold;\n",
       "  display: inline-block;\n",
       "  line-height: 1.2em;\n",
       "}\n",
       "\n",
       "#sk-container-id-1 div.sk-label-container {\n",
       "  text-align: center;\n",
       "}\n",
       "\n",
       "/* Estimator-specific */\n",
       "#sk-container-id-1 div.sk-estimator {\n",
       "  font-family: monospace;\n",
       "  border: 1px dotted var(--sklearn-color-border-box);\n",
       "  border-radius: 0.25em;\n",
       "  box-sizing: border-box;\n",
       "  margin-bottom: 0.5em;\n",
       "  /* unfitted */\n",
       "  background-color: var(--sklearn-color-unfitted-level-0);\n",
       "}\n",
       "\n",
       "#sk-container-id-1 div.sk-estimator.fitted {\n",
       "  /* fitted */\n",
       "  background-color: var(--sklearn-color-fitted-level-0);\n",
       "}\n",
       "\n",
       "/* on hover */\n",
       "#sk-container-id-1 div.sk-estimator:hover {\n",
       "  /* unfitted */\n",
       "  background-color: var(--sklearn-color-unfitted-level-2);\n",
       "}\n",
       "\n",
       "#sk-container-id-1 div.sk-estimator.fitted:hover {\n",
       "  /* fitted */\n",
       "  background-color: var(--sklearn-color-fitted-level-2);\n",
       "}\n",
       "\n",
       "/* Specification for estimator info (e.g. \"i\" and \"?\") */\n",
       "\n",
       "/* Common style for \"i\" and \"?\" */\n",
       "\n",
       ".sk-estimator-doc-link,\n",
       "a:link.sk-estimator-doc-link,\n",
       "a:visited.sk-estimator-doc-link {\n",
       "  float: right;\n",
       "  font-size: smaller;\n",
       "  line-height: 1em;\n",
       "  font-family: monospace;\n",
       "  background-color: var(--sklearn-color-background);\n",
       "  border-radius: 1em;\n",
       "  height: 1em;\n",
       "  width: 1em;\n",
       "  text-decoration: none !important;\n",
       "  margin-left: 1ex;\n",
       "  /* unfitted */\n",
       "  border: var(--sklearn-color-unfitted-level-1) 1pt solid;\n",
       "  color: var(--sklearn-color-unfitted-level-1);\n",
       "}\n",
       "\n",
       ".sk-estimator-doc-link.fitted,\n",
       "a:link.sk-estimator-doc-link.fitted,\n",
       "a:visited.sk-estimator-doc-link.fitted {\n",
       "  /* fitted */\n",
       "  border: var(--sklearn-color-fitted-level-1) 1pt solid;\n",
       "  color: var(--sklearn-color-fitted-level-1);\n",
       "}\n",
       "\n",
       "/* On hover */\n",
       "div.sk-estimator:hover .sk-estimator-doc-link:hover,\n",
       ".sk-estimator-doc-link:hover,\n",
       "div.sk-label-container:hover .sk-estimator-doc-link:hover,\n",
       ".sk-estimator-doc-link:hover {\n",
       "  /* unfitted */\n",
       "  background-color: var(--sklearn-color-unfitted-level-3);\n",
       "  color: var(--sklearn-color-background);\n",
       "  text-decoration: none;\n",
       "}\n",
       "\n",
       "div.sk-estimator.fitted:hover .sk-estimator-doc-link.fitted:hover,\n",
       ".sk-estimator-doc-link.fitted:hover,\n",
       "div.sk-label-container:hover .sk-estimator-doc-link.fitted:hover,\n",
       ".sk-estimator-doc-link.fitted:hover {\n",
       "  /* fitted */\n",
       "  background-color: var(--sklearn-color-fitted-level-3);\n",
       "  color: var(--sklearn-color-background);\n",
       "  text-decoration: none;\n",
       "}\n",
       "\n",
       "/* Span, style for the box shown on hovering the info icon */\n",
       ".sk-estimator-doc-link span {\n",
       "  display: none;\n",
       "  z-index: 9999;\n",
       "  position: relative;\n",
       "  font-weight: normal;\n",
       "  right: .2ex;\n",
       "  padding: .5ex;\n",
       "  margin: .5ex;\n",
       "  width: min-content;\n",
       "  min-width: 20ex;\n",
       "  max-width: 50ex;\n",
       "  color: var(--sklearn-color-text);\n",
       "  box-shadow: 2pt 2pt 4pt #999;\n",
       "  /* unfitted */\n",
       "  background: var(--sklearn-color-unfitted-level-0);\n",
       "  border: .5pt solid var(--sklearn-color-unfitted-level-3);\n",
       "}\n",
       "\n",
       ".sk-estimator-doc-link.fitted span {\n",
       "  /* fitted */\n",
       "  background: var(--sklearn-color-fitted-level-0);\n",
       "  border: var(--sklearn-color-fitted-level-3);\n",
       "}\n",
       "\n",
       ".sk-estimator-doc-link:hover span {\n",
       "  display: block;\n",
       "}\n",
       "\n",
       "/* \"?\"-specific style due to the `<a>` HTML tag */\n",
       "\n",
       "#sk-container-id-1 a.estimator_doc_link {\n",
       "  float: right;\n",
       "  font-size: 1rem;\n",
       "  line-height: 1em;\n",
       "  font-family: monospace;\n",
       "  background-color: var(--sklearn-color-background);\n",
       "  border-radius: 1rem;\n",
       "  height: 1rem;\n",
       "  width: 1rem;\n",
       "  text-decoration: none;\n",
       "  /* unfitted */\n",
       "  color: var(--sklearn-color-unfitted-level-1);\n",
       "  border: var(--sklearn-color-unfitted-level-1) 1pt solid;\n",
       "}\n",
       "\n",
       "#sk-container-id-1 a.estimator_doc_link.fitted {\n",
       "  /* fitted */\n",
       "  border: var(--sklearn-color-fitted-level-1) 1pt solid;\n",
       "  color: var(--sklearn-color-fitted-level-1);\n",
       "}\n",
       "\n",
       "/* On hover */\n",
       "#sk-container-id-1 a.estimator_doc_link:hover {\n",
       "  /* unfitted */\n",
       "  background-color: var(--sklearn-color-unfitted-level-3);\n",
       "  color: var(--sklearn-color-background);\n",
       "  text-decoration: none;\n",
       "}\n",
       "\n",
       "#sk-container-id-1 a.estimator_doc_link.fitted:hover {\n",
       "  /* fitted */\n",
       "  background-color: var(--sklearn-color-fitted-level-3);\n",
       "}\n",
       "</style><div id=\"sk-container-id-1\" class=\"sk-top-container\"><div class=\"sk-text-repr-fallback\"><pre>LinearRegression()</pre><b>In a Jupyter environment, please rerun this cell to show the HTML representation or trust the notebook. <br />On GitHub, the HTML representation is unable to render, please try loading this page with nbviewer.org.</b></div><div class=\"sk-container\" hidden><div class=\"sk-item\"><div class=\"sk-estimator fitted sk-toggleable\"><input class=\"sk-toggleable__control sk-hidden--visually\" id=\"sk-estimator-id-1\" type=\"checkbox\" checked><label for=\"sk-estimator-id-1\" class=\"sk-toggleable__label fitted sk-toggleable__label-arrow fitted\">&nbsp;&nbsp;LinearRegression<a class=\"sk-estimator-doc-link fitted\" rel=\"noreferrer\" target=\"_blank\" href=\"https://scikit-learn.org/1.5/modules/generated/sklearn.linear_model.LinearRegression.html\">?<span>Documentation for LinearRegression</span></a><span class=\"sk-estimator-doc-link fitted\">i<span>Fitted</span></span></label><div class=\"sk-toggleable__content fitted\"><pre>LinearRegression()</pre></div> </div></div></div></div>"
      ],
      "text/plain": [
       "LinearRegression()"
      ]
     },
     "execution_count": 75,
     "metadata": {},
     "output_type": "execute_result"
    }
   ],
   "source": [
    "from sklearn.linear_model import LinearRegression\n",
    "lm = LinearRegression()\n",
    "lm.fit(x_train,y_train)"
   ]
  },
  {
   "cell_type": "code",
   "execution_count": 76,
   "id": "abb5d38c-4a7f-457c-b3a6-e34d2ef0fd4a",
   "metadata": {},
   "outputs": [
    {
     "name": "stdout",
     "output_type": "stream",
     "text": [
      "-2657921.4464064403\n",
      "*****************\n",
      "[2.17329557e+01 1.65690136e+05 1.21587070e+05 1.72620828e+03\n",
      " 1.53020327e+01]\n"
     ]
    }
   ],
   "source": [
    "print(lm.intercept_)\n",
    "print('*****************')\n",
    "print(lm.coef_)"
   ]
  },
  {
   "cell_type": "markdown",
   "id": "eb5dfce8-3b95-4b32-a64a-37fd7bb3250f",
   "metadata": {},
   "source": [
    "### -----> We can also use following approach to find coefficient"
   ]
  },
  {
   "cell_type": "code",
   "execution_count": 77,
   "id": "2594eba8-0210-4bf4-a9c1-231d7078183d",
   "metadata": {},
   "outputs": [
    {
     "name": "stdout",
     "output_type": "stream",
     "text": [
      "The coefficient for Avg_Area_Income is 21.73295574240053\n",
      "The coefficient for Avg_Area_House_Age is 165690.13648624113\n",
      "The coefficient for Avg_Area_Number_of_Rooms is 121587.06965741955\n",
      "The coefficient for Avg_Area_Number_of_Bedrooms is 1726.2082822171615\n",
      "The coefficient for Area_Population is 15.302032682194413\n"
     ]
    }
   ],
   "source": [
    "for idx, column in enumerate(x_train.columns):\n",
    "    print(\"The coefficient for {} is {}\".format(column, lm.coef_[idx]))\n"
   ]
  },
  {
   "cell_type": "code",
   "execution_count": 78,
   "id": "979d6651-c78d-47d2-bc10-572f35bbb314",
   "metadata": {},
   "outputs": [
    {
     "data": {
      "text/plain": [
       "Index(['Avg_Area_Income', 'Avg_Area_House_Age', 'Avg_Area_Number_of_Rooms',\n",
       "       'Avg_Area_Number_of_Bedrooms', 'Area_Population'],\n",
       "      dtype='object')"
      ]
     },
     "execution_count": 78,
     "metadata": {},
     "output_type": "execute_result"
    }
   ],
   "source": [
    "x.columns"
   ]
  },
  {
   "cell_type": "markdown",
   "id": "4bd6e4a3-e83b-423b-a961-d040baf9cf95",
   "metadata": {},
   "source": [
    "#### ----->The basic linear regression equation with intercept and coeffcient will be as:( just for information)\n",
    "#### price = interept+ slope1*Avg_Area_Income +slope2*Avg_Area_House_Age+ slope3*Avg_Area_Number_of_Rooms+ slope4*Avg_Area_Number_of_Bedrooms+ slope5*Area_Population  "
   ]
  },
  {
   "cell_type": "markdown",
   "id": "9997e748-7253-49ef-bdae-a2f91ec59213",
   "metadata": {},
   "source": [
    "## ----->>>>> Prediction of price for tets and train"
   ]
  },
  {
   "cell_type": "code",
   "execution_count": 79,
   "id": "833040e5-100a-40d9-befb-1f804328ed9d",
   "metadata": {},
   "outputs": [],
   "source": [
    "y_pred_price = lm.predict(x_test)"
   ]
  },
  {
   "cell_type": "code",
   "execution_count": 80,
   "id": "8763e5af-d702-418a-9670-8a5f5dfb04c0",
   "metadata": {},
   "outputs": [
    {
     "data": {
      "text/plain": [
       "array([1258771.5463026 ,  821509.83414795, 1743523.44944721, ...,\n",
       "       1117250.31198154,  718622.6849011 , 1518227.0729471 ])"
      ]
     },
     "execution_count": 80,
     "metadata": {},
     "output_type": "execute_result"
    }
   ],
   "source": [
    "y_pred_price"
   ]
  },
  {
   "cell_type": "code",
   "execution_count": 81,
   "id": "31a0979b-a832-4b98-8d36-a2cdb53eb285",
   "metadata": {},
   "outputs": [],
   "source": [
    "y_pred_price_train = lm.predict(x_train)"
   ]
  },
  {
   "cell_type": "code",
   "execution_count": 82,
   "id": "e3eb85de-6f66-401d-9731-c163aceda10c",
   "metadata": {},
   "outputs": [
    {
     "data": {
      "text/plain": [
       "array([ 975014.89364707, 1005966.9725081 , 1311481.65188279, ...,\n",
       "        973733.51952591,  922475.53232175, 2133370.06333554])"
      ]
     },
     "execution_count": 82,
     "metadata": {},
     "output_type": "execute_result"
    }
   ],
   "source": [
    "y_pred_price_train"
   ]
  },
  {
   "cell_type": "code",
   "execution_count": 83,
   "id": "aa99a6a0-520f-4b0b-aafc-bace445ffbb7",
   "metadata": {},
   "outputs": [
    {
     "data": {
      "text/plain": [
       "1718    1.251689e+06\n",
       "2511    8.730483e+05\n",
       "345     1.696978e+06\n",
       "2521    1.063964e+06\n",
       "54      9.487883e+05\n",
       "            ...     \n",
       "1881    1.727211e+06\n",
       "2800    1.707270e+06\n",
       "1216    1.167450e+06\n",
       "1648    7.241217e+05\n",
       "3063    1.561234e+06\n",
       "Name: Price, Length: 1250, dtype: float64"
      ]
     },
     "execution_count": 83,
     "metadata": {},
     "output_type": "execute_result"
    }
   ],
   "source": [
    "y_test"
   ]
  },
  {
   "cell_type": "markdown",
   "id": "c1bfc2f9-35b1-4bd3-8879-293415044fed",
   "metadata": {},
   "source": [
    "### ------>>>> VALIDATION for train and test using R2 score"
   ]
  },
  {
   "cell_type": "code",
   "execution_count": 84,
   "id": "a4e9ae12-14f1-4c8a-b4d7-587d6a1c66c1",
   "metadata": {},
   "outputs": [
    {
     "data": {
      "text/plain": [
       "0.9136249997379438"
      ]
     },
     "execution_count": 84,
     "metadata": {},
     "output_type": "execute_result"
    }
   ],
   "source": [
    "from sklearn.metrics import r2_score\n",
    "r2_score(y_test,y_pred_price)"
   ]
  },
  {
   "cell_type": "code",
   "execution_count": 85,
   "id": "72d7ce66-2e1e-46c4-a2fd-3b7c0d160648",
   "metadata": {},
   "outputs": [
    {
     "data": {
      "text/plain": [
       "0.9165094280297815"
      ]
     },
     "execution_count": 85,
     "metadata": {},
     "output_type": "execute_result"
    }
   ],
   "source": [
    "from sklearn.metrics import r2_score\n",
    "r2_score(y_train,y_pred_price_train)"
   ]
  },
  {
   "cell_type": "markdown",
   "id": "5494f667-9f1e-406a-85b0-94b97f2bd7d4",
   "metadata": {},
   "source": [
    "### -->Since R2 score for training and testing are very close therfore no overfitting or underfitting issue. "
   ]
  },
  {
   "cell_type": "markdown",
   "id": "278fdc50-0c53-4a3a-9bc3-1a0eeb60cc6e",
   "metadata": {},
   "source": [
    "# -APPROACH 2:  OLS Method"
   ]
  },
  {
   "cell_type": "code",
   "execution_count": 86,
   "id": "c3331698-1921-4fd1-82f0-f48093b59ec3",
   "metadata": {},
   "outputs": [],
   "source": [
    "from statsmodels.regression.linear_model import OLS\n",
    "import statsmodels.regression.linear_model as smf"
   ]
  },
  {
   "cell_type": "code",
   "execution_count": 87,
   "id": "55debff6-b2df-48df-8310-ae7a0e6ae8a9",
   "metadata": {},
   "outputs": [
    {
     "data": {
      "text/html": [
       "<table class=\"simpletable\">\n",
       "<caption>OLS Regression Results</caption>\n",
       "<tr>\n",
       "  <th>Dep. Variable:</th>          <td>Price</td>      <th>  R-squared (uncentered):</th>      <td>   0.964</td> \n",
       "</tr>\n",
       "<tr>\n",
       "  <th>Model:</th>                   <td>OLS</td>       <th>  Adj. R-squared (uncentered):</th> <td>   0.964</td> \n",
       "</tr>\n",
       "<tr>\n",
       "  <th>Method:</th>             <td>Least Squares</td>  <th>  F-statistic:       </th>          <td>2.011e+04</td>\n",
       "</tr>\n",
       "<tr>\n",
       "  <th>Date:</th>             <td>Sun, 22 Jun 2025</td> <th>  Prob (F-statistic):</th>           <td>  0.00</td>  \n",
       "</tr>\n",
       "<tr>\n",
       "  <th>Time:</th>                 <td>13:08:36</td>     <th>  Log-Likelihood:    </th>          <td> -51812.</td> \n",
       "</tr>\n",
       "<tr>\n",
       "  <th>No. Observations:</th>      <td>  3750</td>      <th>  AIC:               </th>          <td>1.036e+05</td>\n",
       "</tr>\n",
       "<tr>\n",
       "  <th>Df Residuals:</th>          <td>  3745</td>      <th>  BIC:               </th>          <td>1.037e+05</td>\n",
       "</tr>\n",
       "<tr>\n",
       "  <th>Df Model:</th>              <td>     5</td>      <th>                     </th>              <td> </td>    \n",
       "</tr>\n",
       "<tr>\n",
       "  <th>Covariance Type:</th>      <td>nonrobust</td>    <th>                     </th>              <td> </td>    \n",
       "</tr>\n",
       "</table>\n",
       "<table class=\"simpletable\">\n",
       "<tr>\n",
       "               <td></td>                  <th>coef</th>     <th>std err</th>      <th>t</th>      <th>P>|t|</th>  <th>[0.025</th>    <th>0.975]</th>  \n",
       "</tr>\n",
       "<tr>\n",
       "  <th>Avg_Area_Income</th>             <td>   10.2091</td> <td>    0.314</td> <td>   32.560</td> <td> 0.000</td> <td>    9.594</td> <td>   10.824</td>\n",
       "</tr>\n",
       "<tr>\n",
       "  <th>Avg_Area_House_Age</th>          <td> 4.916e+04</td> <td> 3478.628</td> <td>   14.131</td> <td> 0.000</td> <td> 4.23e+04</td> <td>  5.6e+04</td>\n",
       "</tr>\n",
       "<tr>\n",
       "  <th>Avg_Area_Number_of_Rooms</th>    <td> -1.09e+04</td> <td> 3801.792</td> <td>   -2.868</td> <td> 0.004</td> <td>-1.84e+04</td> <td>-3448.582</td>\n",
       "</tr>\n",
       "<tr>\n",
       "  <th>Avg_Area_Number_of_Bedrooms</th> <td> 5109.5344</td> <td> 3631.219</td> <td>    1.407</td> <td> 0.159</td> <td>-2009.825</td> <td> 1.22e+04</td>\n",
       "</tr>\n",
       "<tr>\n",
       "  <th>Area_Population</th>             <td>    8.5764</td> <td>    0.382</td> <td>   22.429</td> <td> 0.000</td> <td>    7.827</td> <td>    9.326</td>\n",
       "</tr>\n",
       "</table>\n",
       "<table class=\"simpletable\">\n",
       "<tr>\n",
       "  <th>Omnibus:</th>       <td> 0.212</td> <th>  Durbin-Watson:     </th> <td>   1.997</td>\n",
       "</tr>\n",
       "<tr>\n",
       "  <th>Prob(Omnibus):</th> <td> 0.899</td> <th>  Jarque-Bera (JB):  </th> <td>   0.258</td>\n",
       "</tr>\n",
       "<tr>\n",
       "  <th>Skew:</th>          <td>-0.000</td> <th>  Prob(JB):          </th> <td>   0.879</td>\n",
       "</tr>\n",
       "<tr>\n",
       "  <th>Kurtosis:</th>      <td> 2.959</td> <th>  Cond. No.          </th> <td>9.32e+04</td>\n",
       "</tr>\n",
       "</table><br/><br/>Notes:<br/>[1] R² is computed without centering (uncentered) since the model does not contain a constant.<br/>[2] Standard Errors assume that the covariance matrix of the errors is correctly specified.<br/>[3] The condition number is large, 9.32e+04. This might indicate that there are<br/>strong multicollinearity or other numerical problems."
      ],
      "text/latex": [
       "\\begin{center}\n",
       "\\begin{tabular}{lclc}\n",
       "\\toprule\n",
       "\\textbf{Dep. Variable:}                  &      Price       & \\textbf{  R-squared (uncentered):}      &     0.964   \\\\\n",
       "\\textbf{Model:}                          &       OLS        & \\textbf{  Adj. R-squared (uncentered):} &     0.964   \\\\\n",
       "\\textbf{Method:}                         &  Least Squares   & \\textbf{  F-statistic:       }          & 2.011e+04   \\\\\n",
       "\\textbf{Date:}                           & Sun, 22 Jun 2025 & \\textbf{  Prob (F-statistic):}          &     0.00    \\\\\n",
       "\\textbf{Time:}                           &     13:08:36     & \\textbf{  Log-Likelihood:    }          &   -51812.   \\\\\n",
       "\\textbf{No. Observations:}               &        3750      & \\textbf{  AIC:               }          & 1.036e+05   \\\\\n",
       "\\textbf{Df Residuals:}                   &        3745      & \\textbf{  BIC:               }          & 1.037e+05   \\\\\n",
       "\\textbf{Df Model:}                       &           5      & \\textbf{                     }          &             \\\\\n",
       "\\textbf{Covariance Type:}                &    nonrobust     & \\textbf{                     }          &             \\\\\n",
       "\\bottomrule\n",
       "\\end{tabular}\n",
       "\\begin{tabular}{lcccccc}\n",
       "                                         & \\textbf{coef} & \\textbf{std err} & \\textbf{t} & \\textbf{P$> |$t$|$} & \\textbf{[0.025} & \\textbf{0.975]}  \\\\\n",
       "\\midrule\n",
       "\\textbf{Avg\\_Area\\_Income}               &      10.2091  &        0.314     &    32.560  &         0.000        &        9.594    &       10.824     \\\\\n",
       "\\textbf{Avg\\_Area\\_House\\_Age}           &    4.916e+04  &     3478.628     &    14.131  &         0.000        &     4.23e+04    &      5.6e+04     \\\\\n",
       "\\textbf{Avg\\_Area\\_Number\\_of\\_Rooms}    &    -1.09e+04  &     3801.792     &    -2.868  &         0.004        &    -1.84e+04    &    -3448.582     \\\\\n",
       "\\textbf{Avg\\_Area\\_Number\\_of\\_Bedrooms} &    5109.5344  &     3631.219     &     1.407  &         0.159        &    -2009.825    &     1.22e+04     \\\\\n",
       "\\textbf{Area\\_Population}                &       8.5764  &        0.382     &    22.429  &         0.000        &        7.827    &        9.326     \\\\\n",
       "\\bottomrule\n",
       "\\end{tabular}\n",
       "\\begin{tabular}{lclc}\n",
       "\\textbf{Omnibus:}       &  0.212 & \\textbf{  Durbin-Watson:     } &    1.997  \\\\\n",
       "\\textbf{Prob(Omnibus):} &  0.899 & \\textbf{  Jarque-Bera (JB):  } &    0.258  \\\\\n",
       "\\textbf{Skew:}          & -0.000 & \\textbf{  Prob(JB):          } &    0.879  \\\\\n",
       "\\textbf{Kurtosis:}      &  2.959 & \\textbf{  Cond. No.          } & 9.32e+04  \\\\\n",
       "\\bottomrule\n",
       "\\end{tabular}\n",
       "%\\caption{OLS Regression Results}\n",
       "\\end{center}\n",
       "\n",
       "Notes: \\newline\n",
       " [1] R² is computed without centering (uncentered) since the model does not contain a constant. \\newline\n",
       " [2] Standard Errors assume that the covariance matrix of the errors is correctly specified. \\newline\n",
       " [3] The condition number is large, 9.32e+04. This might indicate that there are \\newline\n",
       " strong multicollinearity or other numerical problems."
      ],
      "text/plain": [
       "<class 'statsmodels.iolib.summary.Summary'>\n",
       "\"\"\"\n",
       "                                 OLS Regression Results                                \n",
       "=======================================================================================\n",
       "Dep. Variable:                  Price   R-squared (uncentered):                   0.964\n",
       "Model:                            OLS   Adj. R-squared (uncentered):              0.964\n",
       "Method:                 Least Squares   F-statistic:                          2.011e+04\n",
       "Date:                Sun, 22 Jun 2025   Prob (F-statistic):                        0.00\n",
       "Time:                        13:08:36   Log-Likelihood:                         -51812.\n",
       "No. Observations:                3750   AIC:                                  1.036e+05\n",
       "Df Residuals:                    3745   BIC:                                  1.037e+05\n",
       "Df Model:                           5                                                  \n",
       "Covariance Type:            nonrobust                                                  \n",
       "===============================================================================================\n",
       "                                  coef    std err          t      P>|t|      [0.025      0.975]\n",
       "-----------------------------------------------------------------------------------------------\n",
       "Avg_Area_Income                10.2091      0.314     32.560      0.000       9.594      10.824\n",
       "Avg_Area_House_Age           4.916e+04   3478.628     14.131      0.000    4.23e+04     5.6e+04\n",
       "Avg_Area_Number_of_Rooms     -1.09e+04   3801.792     -2.868      0.004   -1.84e+04   -3448.582\n",
       "Avg_Area_Number_of_Bedrooms  5109.5344   3631.219      1.407      0.159   -2009.825    1.22e+04\n",
       "Area_Population                 8.5764      0.382     22.429      0.000       7.827       9.326\n",
       "==============================================================================\n",
       "Omnibus:                        0.212   Durbin-Watson:                   1.997\n",
       "Prob(Omnibus):                  0.899   Jarque-Bera (JB):                0.258\n",
       "Skew:                          -0.000   Prob(JB):                        0.879\n",
       "Kurtosis:                       2.959   Cond. No.                     9.32e+04\n",
       "==============================================================================\n",
       "\n",
       "Notes:\n",
       "[1] R² is computed without centering (uncentered) since the model does not contain a constant.\n",
       "[2] Standard Errors assume that the covariance matrix of the errors is correctly specified.\n",
       "[3] The condition number is large, 9.32e+04. This might indicate that there are\n",
       "strong multicollinearity or other numerical problems.\n",
       "\"\"\""
      ]
     },
     "execution_count": 87,
     "metadata": {},
     "output_type": "execute_result"
    }
   ],
   "source": [
    "from statsmodels.regression.linear_model import OLS\n",
    "import statsmodels.regression.linear_model as smf\n",
    "reg_model = smf.OLS(endog = y_train,exog = x_train).fit()\n",
    "reg_model.summary()"
   ]
  },
  {
   "cell_type": "markdown",
   "id": "f4fea2fe-87f7-414f-bd49-02a4bb6c7c0c",
   "metadata": {},
   "source": [
    "#### ------>  Interesting Finding\n",
    "### Scaling or originality of data does not influence R2 score for linear regression\n",
    "### But severely affect the R2 in OLS approach.\n",
    "### Scaling reduce the R2 score abruptly.\n",
    "###  In ols method we can check Adj R2 sccore\n",
    "### we can check P value\n",
    "### we can check Durbin Watson Test value to check Autocolinearity: change in variable with time\n",
    "### DWT < 2 = +ve autocolrelation\n",
    "### DWT > 2 = -ve auto corelation\n",
    "### DWT = 2 = no auto  corelation\n",
    "### If DWT lies between 1.5 to 2.5 model is acceptable else go for timeseries appraoach.\n"
   ]
  },
  {
   "cell_type": "markdown",
   "id": "34e0776a-c0a8-4158-9251-9bbe24a87374",
   "metadata": {},
   "source": [
    "###  ----->> There is another assumption data should be linear. Let us check linearity using scatter plot"
   ]
  },
  {
   "cell_type": "code",
   "execution_count": 93,
   "id": "22a37519-6c4e-4cb1-a2fd-1325936a2e9f",
   "metadata": {},
   "outputs": [
    {
     "data": {
      "text/plain": [
       "<matplotlib.collections.PathCollection at 0x1508f8950>"
      ]
     },
     "execution_count": 93,
     "metadata": {},
     "output_type": "execute_result"
    }
   ],
   "source": [
    "plt.scatter(y_test,y_pred_price)"
   ]
  },
  {
   "cell_type": "markdown",
   "id": "678db90c-160e-4acf-8597-9ad5b8eac20c",
   "metadata": {},
   "source": [
    "### ---->>>There is another assumption normality of residual . Let us check normality of residual"
   ]
  },
  {
   "cell_type": "code",
   "execution_count": 94,
   "id": "dd6b1bb7-9a84-4ed6-8b1a-0ea1fc699936",
   "metadata": {},
   "outputs": [],
   "source": [
    "Residual  = y_test-y_pred_price"
   ]
  },
  {
   "cell_type": "code",
   "execution_count": 95,
   "id": "db61d89f-ef33-4fa0-a41f-7623ecad56d2",
   "metadata": {},
   "outputs": [
    {
     "data": {
      "image/png": "[encoded data removed]",
      "text/plain": [
       "<Figure size 640x480 with 1 Axes>"
      ]
     },
     "metadata": {},
     "output_type": "display_data"
    }
   ],
   "source": [
    "sns.distplot((Residual),bins = 50)\n",
    "plt.show()"
   ]
  },
  {
   "cell_type": "markdown",
   "id": "8a02261f-3424-41e8-b565-8aaba33730ac",
   "metadata": {},
   "source": [
    "## ---->> Conclude the model\n",
    "### ---> Adj R2 score = 0.96\n",
    "### --->All variable have p value less than 5% except the variable number of bedrooms.So drop it and do it again\n",
    "### --->linearity  satisfied\n",
    "### --->Normality of Residual satisifed\n",
    "###  ---->Homosedasticity satisified\n",
    "### ---->No autocorelation satisfied\n",
    "### ---->No or little multicolinearity satisfied\n",
    "### ---->No endoginity satified\n",
    "### ---->sklearn linear regrssion model is a machine learning approach\n",
    "### ---->OLS is a statistical appraoch\n"
   ]
  },
  {
   "cell_type": "markdown",
   "id": "d1a4b053-026d-4497-a55b-02d52e36ec4f",
   "metadata": {},
   "source": [
    "# APPROACH 3\n",
    "### ----> Regularization: It is a shrinkage method the algortihm while trying to find best combination of coeffcient vlaue \n",
    "#### ----> which minimize SSE on training data by penality on higher coefficent value to reduce the error.\n",
    "### ----> Ridge also callled L2 ; Close to zero\n",
    "### ----> Lasso also called L1: Either zero or close to zero(Sparsity)\n",
    "### ----> Most popular is ridge\n",
    "###  -----> ElastiNet L1+L2 (Rarely used)\n",
    "### ------> lasso based on absolute value which can not be differentiated."
   ]
  },
  {
   "cell_type": "code",
   "execution_count": 96,
   "id": "71867fb6-32a7-46e1-ae3e-d56b901170a0",
   "metadata": {},
   "outputs": [],
   "source": [
    "from sklearn.linear_model import LinearRegression\n",
    "from sklearn.linear_model import Ridge\n",
    "from sklearn.linear_model import Lasso\n",
    "from sklearn.metrics import r2_score"
   ]
  },
  {
   "cell_type": "code",
   "execution_count": 97,
   "id": "c934a960-0d5c-440d-8cd0-1f0ca892bb00",
   "metadata": {},
   "outputs": [
    {
     "name": "stdout",
     "output_type": "stream",
     "text": [
      "Lasso Model : [2.17329556e+01 1.65690031e+05 1.21586986e+05 1.72617492e+03\n",
      " 1.53020326e+01]\n"
     ]
    }
   ],
   "source": [
    "# PART 1 lasso \n",
    "# penality preferred = 0.1\n",
    "lasso = Lasso(alpha = 0.1)\n",
    "lasso.fit(x_train,y_train)\n",
    "print(\"Lasso Model :\",(lasso.coef_))\n"
   ]
  },
  {
   "cell_type": "code",
   "execution_count": 98,
   "id": "dc6e2064-73b9-4798-8a08-66056d101ca1",
   "metadata": {},
   "outputs": [
    {
     "data": {
      "text/plain": [
       "-2657920.094517281"
      ]
     },
     "execution_count": 98,
     "metadata": {},
     "output_type": "execute_result"
    }
   ],
   "source": [
    "lasso.intercept_"
   ]
  },
  {
   "cell_type": "code",
   "execution_count": 99,
   "id": "d2fb58be-c669-428d-b0f0-075e3447cdef",
   "metadata": {},
   "outputs": [
    {
     "name": "stdout",
     "output_type": "stream",
     "text": [
      "ridge model [2.17329254e+01 1.65675916e+05 1.21574274e+05 1.73113927e+03\n",
      " 1.53020563e+01]\n"
     ]
    }
   ],
   "source": [
    "# Part2 Ridge\n",
    "# penality preferred = 0.3\n",
    "ridge = Ridge(alpha = 0.3)\n",
    "ridge.fit(x_train,y_train)\n",
    "print(\"ridge model\",ridge.coef_)"
   ]
  },
  {
   "cell_type": "code",
   "execution_count": 100,
   "id": "d69b7b14-7c62-445b-8746-c4141c6841e0",
   "metadata": {},
   "outputs": [
    {
     "data": {
      "text/plain": [
       "-2657765.4841408585"
      ]
     },
     "execution_count": 100,
     "metadata": {},
     "output_type": "execute_result"
    }
   ],
   "source": [
    "ridge.intercept_"
   ]
  },
  {
   "cell_type": "code",
   "execution_count": 101,
   "id": "347f9ff9-0768-4519-aef7-997f7ccefff6",
   "metadata": {},
   "outputs": [],
   "source": [
    "y_pred_train_ridge = ridge.predict(x_train)\n",
    "y_pred_test_ridge = ridge.predict(x_test)"
   ]
  },
  {
   "cell_type": "code",
   "execution_count": 102,
   "id": "d9dd991a-525a-4329-a8bc-e50e34f43479",
   "metadata": {},
   "outputs": [
    {
     "name": "stdout",
     "output_type": "stream",
     "text": [
      "Training Accuracy: 0.91650942552207\n",
      "Test Accuracy: 0.9136246738265379\n"
     ]
    }
   ],
   "source": [
    "print(\"Training Accuracy:\", r2_score(y_train, y_pred_train_ridge))\n",
    "print(\"Test Accuracy:\", r2_score(y_test, y_pred_test_ridge))    "
   ]
  },
  {
   "cell_type": "code",
   "execution_count": 103,
   "id": "90d6abb1-adb3-4081-950f-62bcceae1b69",
   "metadata": {},
   "outputs": [],
   "source": [
    "y_pred_train_lasso = lasso.predict(x_train)\n",
    "y_pred_test_lasso = lasso.predict(x_test)"
   ]
  },
  {
   "cell_type": "code",
   "execution_count": 104,
   "id": "42e32fc9-aaeb-48d8-b5f2-b0ead513159b",
   "metadata": {},
   "outputs": [
    {
     "name": "stdout",
     "output_type": "stream",
     "text": [
      "Training Accuracy: 0.9165094280296036\n",
      "Test Accuracy: 0.9136249987893023\n"
     ]
    }
   ],
   "source": [
    "print(\"Training Accuracy:\", r2_score(y_train, y_pred_train_lasso))\n",
    "print(\"Test Accuracy:\", r2_score(y_test, y_pred_test_lasso))    "
   ]
  },
  {
   "cell_type": "markdown",
   "id": "44badbda-b377-40bf-ad3a-a96691ef5df7",
   "metadata": {},
   "source": [
    "# Performance matrix"
   ]
  },
  {
   "cell_type": "code",
   "execution_count": 105,
   "id": "f71cfee0-8356-43c0-9170-9b2484ab8db2",
   "metadata": {},
   "outputs": [
    {
     "name": "stdout",
     "output_type": "stream",
     "text": [
      "MAE 83116.30244093633\n"
     ]
    }
   ],
   "source": [
    "# Mean Absolute Error\n",
    "from sklearn import metrics\n",
    "print(\"MAE\", metrics.mean_absolute_error(y_test,y_pred_price))"
   ]
  },
  {
   "cell_type": "code",
   "execution_count": 106,
   "id": "d93b8424-d49c-4328-a800-193979f0ab48",
   "metadata": {},
   "outputs": [
    {
     "name": "stdout",
     "output_type": "stream",
     "text": [
      "MAPE: 831.1630244093633\n"
     ]
    }
   ],
   "source": [
    "# Mean Absolute percent Error (MAPE)\n",
    "\n",
    "print(\"MAPE:\",metrics.mean_absolute_error(y_test,y_pred_price)/100)\n"
   ]
  },
  {
   "cell_type": "code",
   "execution_count": 107,
   "id": "7cca80bd-02ac-4542-b258-81232c8aae40",
   "metadata": {},
   "outputs": [
    {
     "name": "stdout",
     "output_type": "stream",
     "text": [
      "MSE: 10794362043.07749\n"
     ]
    }
   ],
   "source": [
    "# Mean Squared Error\n",
    "\n",
    "print(\"MSE:\",metrics.mean_squared_error(y_test,y_pred_price))"
   ]
  },
  {
   "cell_type": "code",
   "execution_count": 108,
   "id": "01c5b2ac-bb36-4b31-981e-adc5d49884c6",
   "metadata": {},
   "outputs": [
    {
     "name": "stdout",
     "output_type": "stream",
     "text": [
      "RMSE: 103895.91928019834\n"
     ]
    }
   ],
   "source": [
    "# Root Mean Squared Error\n",
    "\n",
    "print(\"RMSE:\",np.sqrt(metrics.mean_squared_error(y_test,y_pred_price)))"
   ]
  },
  {
   "cell_type": "markdown",
   "id": "e93812de-ae68-45f7-8f7b-3a233b55350d",
   "metadata": {},
   "source": [
    "# Approach 4\n",
    "### -----> Gradient Descent : Iterate the model with concept of forward and backward propagation. for finding value of \n",
    "### slope and intercept and if not good, go backward to adjust them and remodel.\n",
    "### ----> IN GD we need to use scaled data."
   ]
  },
  {
   "cell_type": "code",
   "execution_count": 109,
   "id": "c8d0cee6-078b-4084-b89b-51296086fb49",
   "metadata": {},
   "outputs": [
    {
     "name": "stdout",
     "output_type": "stream",
     "text": [
      "(3750, 5) (1250, 5) (3750,) (1250,)\n"
     ]
    }
   ],
   "source": [
    "from sklearn.model_selection import train_test_split\n",
    "x_train1,x_test1,y_train,y_test = train_test_split(sc_x,y,test_size = 0.25,random_state = 101)\n",
    "print(x_train1.shape,x_test1.shape,y_train.shape,y_test.shape)"
   ]
  },
  {
   "cell_type": "code",
   "execution_count": 110,
   "id": "96c33c38-791d-4ea8-9116-641ccff8f6ae",
   "metadata": {},
   "outputs": [],
   "source": [
    "from sklearn.linear_model import SGDRegressor"
   ]
  },
  {
   "cell_type": "code",
   "execution_count": 111,
   "id": "a046e1aa-2aac-4724-9cac-f482775960c6",
   "metadata": {},
   "outputs": [
    {
     "data": {
      "text/html": [
       "<style>#sk-container-id-2 {\n",
       "  /* Definition of color scheme common for light and dark mode */\n",
       "  --sklearn-color-text: black;\n",
       "  --sklearn-color-line: gray;\n",
       "  /* Definition of color scheme for unfitted estimators */\n",
       "  --sklearn-color-unfitted-level-0: #fff5e6;\n",
       "  --sklearn-color-unfitted-level-1: #f6e4d2;\n",
       "  --sklearn-color-unfitted-level-2: #ffe0b3;\n",
       "  --sklearn-color-unfitted-level-3: chocolate;\n",
       "  /* Definition of color scheme for fitted estimators */\n",
       "  --sklearn-color-fitted-level-0: #f0f8ff;\n",
       "  --sklearn-color-fitted-level-1: #d4ebff;\n",
       "  --sklearn-color-fitted-level-2: #b3dbfd;\n",
       "  --sklearn-color-fitted-level-3: cornflowerblue;\n",
       "\n",
       "  /* Specific color for light theme */\n",
       "  --sklearn-color-text-on-default-background: var(--sg-text-color, var(--theme-code-foreground, var(--jp-content-font-color1, black)));\n",
       "  --sklearn-color-background: var(--sg-background-color, var(--theme-background, var(--jp-layout-color0, white)));\n",
       "  --sklearn-color-border-box: var(--sg-text-color, var(--theme-code-foreground, var(--jp-content-font-color1, black)));\n",
       "  --sklearn-color-icon: #696969;\n",
       "\n",
       "  @media (prefers-color-scheme: dark) {\n",
       "    /* Redefinition of color scheme for dark theme */\n",
       "    --sklearn-color-text-on-default-background: var(--sg-text-color, var(--theme-code-foreground, var(--jp-content-font-color1, white)));\n",
       "    --sklearn-color-background: var(--sg-background-color, var(--theme-background, var(--jp-layout-color0, #111)));\n",
       "    --sklearn-color-border-box: var(--sg-text-color, var(--theme-code-foreground, var(--jp-content-font-color1, white)));\n",
       "    --sklearn-color-icon: #878787;\n",
       "  }\n",
       "}\n",
       "\n",
       "#sk-container-id-2 {\n",
       "  color: var(--sklearn-color-text);\n",
       "}\n",
       "\n",
       "#sk-container-id-2 pre {\n",
       "  padding: 0;\n",
       "}\n",
       "\n",
       "#sk-container-id-2 input.sk-hidden--visually {\n",
       "  border: 0;\n",
       "  clip: rect(1px 1px 1px 1px);\n",
       "  clip: rect(1px, 1px, 1px, 1px);\n",
       "  height: 1px;\n",
       "  margin: -1px;\n",
       "  overflow: hidden;\n",
       "  padding: 0;\n",
       "  position: absolute;\n",
       "  width: 1px;\n",
       "}\n",
       "\n",
       "#sk-container-id-2 div.sk-dashed-wrapped {\n",
       "  border: 1px dashed var(--sklearn-color-line);\n",
       "  margin: 0 0.4em 0.5em 0.4em;\n",
       "  box-sizing: border-box;\n",
       "  padding-bottom: 0.4em;\n",
       "  background-color: var(--sklearn-color-background);\n",
       "}\n",
       "\n",
       "#sk-container-id-2 div.sk-container {\n",
       "  /* jupyter's `normalize.less` sets `[hidden] { display: none; }`\n",
       "     but bootstrap.min.css set `[hidden] { display: none !important; }`\n",
       "     so we also need the `!important` here to be able to override the\n",
       "     default hidden behavior on the sphinx rendered scikit-learn.org.\n",
       "     See: https://github.com/scikit-learn/scikit-learn/issues/21755 */\n",
       "  display: inline-block !important;\n",
       "  position: relative;\n",
       "}\n",
       "\n",
       "#sk-container-id-2 div.sk-text-repr-fallback {\n",
       "  display: none;\n",
       "}\n",
       "\n",
       "div.sk-parallel-item,\n",
       "div.sk-serial,\n",
       "div.sk-item {\n",
       "  /* draw centered vertical line to link estimators */\n",
       "  background-image: linear-gradient(var(--sklearn-color-text-on-default-background), var(--sklearn-color-text-on-default-background));\n",
       "  background-size: 2px 100%;\n",
       "  background-repeat: no-repeat;\n",
       "  background-position: center center;\n",
       "}\n",
       "\n",
       "/* Parallel-specific style estimator block */\n",
       "\n",
       "#sk-container-id-2 div.sk-parallel-item::after {\n",
       "  content: \"\";\n",
       "  width: 100%;\n",
       "  border-bottom: 2px solid var(--sklearn-color-text-on-default-background);\n",
       "  flex-grow: 1;\n",
       "}\n",
       "\n",
       "#sk-container-id-2 div.sk-parallel {\n",
       "  display: flex;\n",
       "  align-items: stretch;\n",
       "  justify-content: center;\n",
       "  background-color: var(--sklearn-color-background);\n",
       "  position: relative;\n",
       "}\n",
       "\n",
       "#sk-container-id-2 div.sk-parallel-item {\n",
       "  display: flex;\n",
       "  flex-direction: column;\n",
       "}\n",
       "\n",
       "#sk-container-id-2 div.sk-parallel-item:first-child::after {\n",
       "  align-self: flex-end;\n",
       "  width: 50%;\n",
       "}\n",
       "\n",
       "#sk-container-id-2 div.sk-parallel-item:last-child::after {\n",
       "  align-self: flex-start;\n",
       "  width: 50%;\n",
       "}\n",
       "\n",
       "#sk-container-id-2 div.sk-parallel-item:only-child::after {\n",
       "  width: 0;\n",
       "}\n",
       "\n",
       "/* Serial-specific style estimator block */\n",
       "\n",
       "#sk-container-id-2 div.sk-serial {\n",
       "  display: flex;\n",
       "  flex-direction: column;\n",
       "  align-items: center;\n",
       "  background-color: var(--sklearn-color-background);\n",
       "  padding-right: 1em;\n",
       "  padding-left: 1em;\n",
       "}\n",
       "\n",
       "\n",
       "/* Toggleable style: style used for estimator/Pipeline/ColumnTransformer box that is\n",
       "clickable and can be expanded/collapsed.\n",
       "- Pipeline and ColumnTransformer use this feature and define the default style\n",
       "- Estimators will overwrite some part of the style using the `sk-estimator` class\n",
       "*/\n",
       "\n",
       "/* Pipeline and ColumnTransformer style (default) */\n",
       "\n",
       "#sk-container-id-2 div.sk-toggleable {\n",
       "  /* Default theme specific background. It is overwritten whether we have a\n",
       "  specific estimator or a Pipeline/ColumnTransformer */\n",
       "  background-color: var(--sklearn-color-background);\n",
       "}\n",
       "\n",
       "/* Toggleable label */\n",
       "#sk-container-id-2 label.sk-toggleable__label {\n",
       "  cursor: pointer;\n",
       "  display: block;\n",
       "  width: 100%;\n",
       "  margin-bottom: 0;\n",
       "  padding: 0.5em;\n",
       "  box-sizing: border-box;\n",
       "  text-align: center;\n",
       "}\n",
       "\n",
       "#sk-container-id-2 label.sk-toggleable__label-arrow:before {\n",
       "  /* Arrow on the left of the label */\n",
       "  content: \"▸\";\n",
       "  float: left;\n",
       "  margin-right: 0.25em;\n",
       "  color: var(--sklearn-color-icon);\n",
       "}\n",
       "\n",
       "#sk-container-id-2 label.sk-toggleable__label-arrow:hover:before {\n",
       "  color: var(--sklearn-color-text);\n",
       "}\n",
       "\n",
       "/* Toggleable content - dropdown */\n",
       "\n",
       "#sk-container-id-2 div.sk-toggleable__content {\n",
       "  max-height: 0;\n",
       "  max-width: 0;\n",
       "  overflow: hidden;\n",
       "  text-align: left;\n",
       "  /* unfitted */\n",
       "  background-color: var(--sklearn-color-unfitted-level-0);\n",
       "}\n",
       "\n",
       "#sk-container-id-2 div.sk-toggleable__content.fitted {\n",
       "  /* fitted */\n",
       "  background-color: var(--sklearn-color-fitted-level-0);\n",
       "}\n",
       "\n",
       "#sk-container-id-2 div.sk-toggleable__content pre {\n",
       "  margin: 0.2em;\n",
       "  border-radius: 0.25em;\n",
       "  color: var(--sklearn-color-text);\n",
       "  /* unfitted */\n",
       "  background-color: var(--sklearn-color-unfitted-level-0);\n",
       "}\n",
       "\n",
       "#sk-container-id-2 div.sk-toggleable__content.fitted pre {\n",
       "  /* unfitted */\n",
       "  background-color: var(--sklearn-color-fitted-level-0);\n",
       "}\n",
       "\n",
       "#sk-container-id-2 input.sk-toggleable__control:checked~div.sk-toggleable__content {\n",
       "  /* Expand drop-down */\n",
       "  max-height: 200px;\n",
       "  max-width: 100%;\n",
       "  overflow: auto;\n",
       "}\n",
       "\n",
       "#sk-container-id-2 input.sk-toggleable__control:checked~label.sk-toggleable__label-arrow:before {\n",
       "  content: \"▾\";\n",
       "}\n",
       "\n",
       "/* Pipeline/ColumnTransformer-specific style */\n",
       "\n",
       "#sk-container-id-2 div.sk-label input.sk-toggleable__control:checked~label.sk-toggleable__label {\n",
       "  color: var(--sklearn-color-text);\n",
       "  background-color: var(--sklearn-color-unfitted-level-2);\n",
       "}\n",
       "\n",
       "#sk-container-id-2 div.sk-label.fitted input.sk-toggleable__control:checked~label.sk-toggleable__label {\n",
       "  background-color: var(--sklearn-color-fitted-level-2);\n",
       "}\n",
       "\n",
       "/* Estimator-specific style */\n",
       "\n",
       "/* Colorize estimator box */\n",
       "#sk-container-id-2 div.sk-estimator input.sk-toggleable__control:checked~label.sk-toggleable__label {\n",
       "  /* unfitted */\n",
       "  background-color: var(--sklearn-color-unfitted-level-2);\n",
       "}\n",
       "\n",
       "#sk-container-id-2 div.sk-estimator.fitted input.sk-toggleable__control:checked~label.sk-toggleable__label {\n",
       "  /* fitted */\n",
       "  background-color: var(--sklearn-color-fitted-level-2);\n",
       "}\n",
       "\n",
       "#sk-container-id-2 div.sk-label label.sk-toggleable__label,\n",
       "#sk-container-id-2 div.sk-label label {\n",
       "  /* The background is the default theme color */\n",
       "  color: var(--sklearn-color-text-on-default-background);\n",
       "}\n",
       "\n",
       "/* On hover, darken the color of the background */\n",
       "#sk-container-id-2 div.sk-label:hover label.sk-toggleable__label {\n",
       "  color: var(--sklearn-color-text);\n",
       "  background-color: var(--sklearn-color-unfitted-level-2);\n",
       "}\n",
       "\n",
       "/* Label box, darken color on hover, fitted */\n",
       "#sk-container-id-2 div.sk-label.fitted:hover label.sk-toggleable__label.fitted {\n",
       "  color: var(--sklearn-color-text);\n",
       "  background-color: var(--sklearn-color-fitted-level-2);\n",
       "}\n",
       "\n",
       "/* Estimator label */\n",
       "\n",
       "#sk-container-id-2 div.sk-label label {\n",
       "  font-family: monospace;\n",
       "  font-weight: bold;\n",
       "  display: inline-block;\n",
       "  line-height: 1.2em;\n",
       "}\n",
       "\n",
       "#sk-container-id-2 div.sk-label-container {\n",
       "  text-align: center;\n",
       "}\n",
       "\n",
       "/* Estimator-specific */\n",
       "#sk-container-id-2 div.sk-estimator {\n",
       "  font-family: monospace;\n",
       "  border: 1px dotted var(--sklearn-color-border-box);\n",
       "  border-radius: 0.25em;\n",
       "  box-sizing: border-box;\n",
       "  margin-bottom: 0.5em;\n",
       "  /* unfitted */\n",
       "  background-color: var(--sklearn-color-unfitted-level-0);\n",
       "}\n",
       "\n",
       "#sk-container-id-2 div.sk-estimator.fitted {\n",
       "  /* fitted */\n",
       "  background-color: var(--sklearn-color-fitted-level-0);\n",
       "}\n",
       "\n",
       "/* on hover */\n",
       "#sk-container-id-2 div.sk-estimator:hover {\n",
       "  /* unfitted */\n",
       "  background-color: var(--sklearn-color-unfitted-level-2);\n",
       "}\n",
       "\n",
       "#sk-container-id-2 div.sk-estimator.fitted:hover {\n",
       "  /* fitted */\n",
       "  background-color: var(--sklearn-color-fitted-level-2);\n",
       "}\n",
       "\n",
       "/* Specification for estimator info (e.g. \"i\" and \"?\") */\n",
       "\n",
       "/* Common style for \"i\" and \"?\" */\n",
       "\n",
       ".sk-estimator-doc-link,\n",
       "a:link.sk-estimator-doc-link,\n",
       "a:visited.sk-estimator-doc-link {\n",
       "  float: right;\n",
       "  font-size: smaller;\n",
       "  line-height: 1em;\n",
       "  font-family: monospace;\n",
       "  background-color: var(--sklearn-color-background);\n",
       "  border-radius: 1em;\n",
       "  height: 1em;\n",
       "  width: 1em;\n",
       "  text-decoration: none !important;\n",
       "  margin-left: 1ex;\n",
       "  /* unfitted */\n",
       "  border: var(--sklearn-color-unfitted-level-1) 1pt solid;\n",
       "  color: var(--sklearn-color-unfitted-level-1);\n",
       "}\n",
       "\n",
       ".sk-estimator-doc-link.fitted,\n",
       "a:link.sk-estimator-doc-link.fitted,\n",
       "a:visited.sk-estimator-doc-link.fitted {\n",
       "  /* fitted */\n",
       "  border: var(--sklearn-color-fitted-level-1) 1pt solid;\n",
       "  color: var(--sklearn-color-fitted-level-1);\n",
       "}\n",
       "\n",
       "/* On hover */\n",
       "div.sk-estimator:hover .sk-estimator-doc-link:hover,\n",
       ".sk-estimator-doc-link:hover,\n",
       "div.sk-label-container:hover .sk-estimator-doc-link:hover,\n",
       ".sk-estimator-doc-link:hover {\n",
       "  /* unfitted */\n",
       "  background-color: var(--sklearn-color-unfitted-level-3);\n",
       "  color: var(--sklearn-color-background);\n",
       "  text-decoration: none;\n",
       "}\n",
       "\n",
       "div.sk-estimator.fitted:hover .sk-estimator-doc-link.fitted:hover,\n",
       ".sk-estimator-doc-link.fitted:hover,\n",
       "div.sk-label-container:hover .sk-estimator-doc-link.fitted:hover,\n",
       ".sk-estimator-doc-link.fitted:hover {\n",
       "  /* fitted */\n",
       "  background-color: var(--sklearn-color-fitted-level-3);\n",
       "  color: var(--sklearn-color-background);\n",
       "  text-decoration: none;\n",
       "}\n",
       "\n",
       "/* Span, style for the box shown on hovering the info icon */\n",
       ".sk-estimator-doc-link span {\n",
       "  display: none;\n",
       "  z-index: 9999;\n",
       "  position: relative;\n",
       "  font-weight: normal;\n",
       "  right: .2ex;\n",
       "  padding: .5ex;\n",
       "  margin: .5ex;\n",
       "  width: min-content;\n",
       "  min-width: 20ex;\n",
       "  max-width: 50ex;\n",
       "  color: var(--sklearn-color-text);\n",
       "  box-shadow: 2pt 2pt 4pt #999;\n",
       "  /* unfitted */\n",
       "  background: var(--sklearn-color-unfitted-level-0);\n",
       "  border: .5pt solid var(--sklearn-color-unfitted-level-3);\n",
       "}\n",
       "\n",
       ".sk-estimator-doc-link.fitted span {\n",
       "  /* fitted */\n",
       "  background: var(--sklearn-color-fitted-level-0);\n",
       "  border: var(--sklearn-color-fitted-level-3);\n",
       "}\n",
       "\n",
       ".sk-estimator-doc-link:hover span {\n",
       "  display: block;\n",
       "}\n",
       "\n",
       "/* \"?\"-specific style due to the `<a>` HTML tag */\n",
       "\n",
       "#sk-container-id-2 a.estimator_doc_link {\n",
       "  float: right;\n",
       "  font-size: 1rem;\n",
       "  line-height: 1em;\n",
       "  font-family: monospace;\n",
       "  background-color: var(--sklearn-color-background);\n",
       "  border-radius: 1rem;\n",
       "  height: 1rem;\n",
       "  width: 1rem;\n",
       "  text-decoration: none;\n",
       "  /* unfitted */\n",
       "  color: var(--sklearn-color-unfitted-level-1);\n",
       "  border: var(--sklearn-color-unfitted-level-1) 1pt solid;\n",
       "}\n",
       "\n",
       "#sk-container-id-2 a.estimator_doc_link.fitted {\n",
       "  /* fitted */\n",
       "  border: var(--sklearn-color-fitted-level-1) 1pt solid;\n",
       "  color: var(--sklearn-color-fitted-level-1);\n",
       "}\n",
       "\n",
       "/* On hover */\n",
       "#sk-container-id-2 a.estimator_doc_link:hover {\n",
       "  /* unfitted */\n",
       "  background-color: var(--sklearn-color-unfitted-level-3);\n",
       "  color: var(--sklearn-color-background);\n",
       "  text-decoration: none;\n",
       "}\n",
       "\n",
       "#sk-container-id-2 a.estimator_doc_link.fitted:hover {\n",
       "  /* fitted */\n",
       "  background-color: var(--sklearn-color-fitted-level-3);\n",
       "}\n",
       "</style><div id=\"sk-container-id-2\" class=\"sk-top-container\"><div class=\"sk-text-repr-fallback\"><pre>SGDRegressor()</pre><b>In a Jupyter environment, please rerun this cell to show the HTML representation or trust the notebook. <br />On GitHub, the HTML representation is unable to render, please try loading this page with nbviewer.org.</b></div><div class=\"sk-container\" hidden><div class=\"sk-item\"><div class=\"sk-estimator fitted sk-toggleable\"><input class=\"sk-toggleable__control sk-hidden--visually\" id=\"sk-estimator-id-2\" type=\"checkbox\" checked><label for=\"sk-estimator-id-2\" class=\"sk-toggleable__label fitted sk-toggleable__label-arrow fitted\">&nbsp;&nbsp;SGDRegressor<a class=\"sk-estimator-doc-link fitted\" rel=\"noreferrer\" target=\"_blank\" href=\"https://scikit-learn.org/1.5/modules/generated/sklearn.linear_model.SGDRegressor.html\">?<span>Documentation for SGDRegressor</span></a><span class=\"sk-estimator-doc-link fitted\">i<span>Fitted</span></span></label><div class=\"sk-toggleable__content fitted\"><pre>SGDRegressor()</pre></div> </div></div></div></div>"
      ],
      "text/plain": [
       "SGDRegressor()"
      ]
     },
     "execution_count": 111,
     "metadata": {},
     "output_type": "execute_result"
    }
   ],
   "source": [
    "gd_model = SGDRegressor()\n",
    "gd_model.fit(x_train1,y_train)"
   ]
  },
  {
   "cell_type": "markdown",
   "id": "9a39a16e-2679-41ab-9657-297235b72d1d",
   "metadata": {},
   "source": [
    "### ----> SGDRegressor(alpha=0.0001,,max_iter=1000,tol=0.001,learning_rate='adaptive',eta0=0.01,,n_iter_no_change=5)\n",
    "## ---> Key Parameters for Tuning SGDRegressor\n",
    "1. alpha: Constant that multiplies the regularization term. Also known as the regularization strength; must be a positive float.\n",
    "Typical values: [0.0001, 0.001, 0.01, 0.1, 1, 10]\n",
    "\n",
    "2. learning_rate: The learning rate schedule. \n",
    "Options include:\n",
    "'constant': eta = eta0\n",
    "'optimal': eta = 1.0 / (t + t0)\n",
    "'invscaling': eta = eta0 / pow(t, power_t)\n",
    "'adaptive': eta = eta0, as long as the training keeps decreasing. Each time n_iter_no_change consecutive epochs fail to decrease the training loss, the current learning rate is divided by 5.\n",
    "\n",
    "3. eta0: The initial learning rate for the ‘constant’, ‘invscaling’, or ‘adaptive’ schedules.\n",
    "Typical values: [0.0001, 0.001, 0.01, 0.1, 1]\n",
    "\n",
    "4. max_iter: The maximum number of passes over the training data (epochs).\n",
    "Typical values: [1000, 5000, 10000]\n",
    "\n",
    "5.tol: The stopping criterion. If it is not None, the iterations will stop when (loss > best_loss - tol) for n_iter_no_change consecutive epochs.\n",
    "Typical values: [1e-3, 1e-4, 1e-5]\n",
    "\n",
    "6. penalty: The penalty (regularization term) to be used. Options include:\n",
    "'none'\n",
    "'l2'\n",
    "'l1'\n",
    "\n",
    "7.n_iter_no_change: Number of iterations with no improvement to wait before early stopping.\n",
    "Typical values: [5, 10]"
   ]
  },
  {
   "cell_type": "code",
   "execution_count": 112,
   "id": "7b692f36-01d6-4ee6-825f-5c2d4ca6285d",
   "metadata": {},
   "outputs": [],
   "source": [
    "#learning_rate='adaptive', eta0=0.01, max_iter=10000, tol=1e-3"
   ]
  },
  {
   "cell_type": "code",
   "execution_count": 113,
   "id": "dfd09fb4-d975-4746-b8a0-b825e8ca8d90",
   "metadata": {},
   "outputs": [],
   "source": [
    "y_pred_gd_train = gd_model.predict(x_train1)\n",
    "y_pred_gd_test = gd_model.predict(x_test1)"
   ]
  },
  {
   "cell_type": "code",
   "execution_count": 114,
   "id": "162799f2-5161-41bb-8374-5e13010d739a",
   "metadata": {},
   "outputs": [
    {
     "name": "stdout",
     "output_type": "stream",
     "text": [
      "GD TRAINING ACCURACY: 0.9164763745520359\n"
     ]
    }
   ],
   "source": [
    "print(\"GD TRAINING ACCURACY:\",r2_score(y_train,y_pred_gd_train))"
   ]
  },
  {
   "cell_type": "code",
   "execution_count": 115,
   "id": "28764413-01b9-46fe-96d8-7e4f82852e8a",
   "metadata": {},
   "outputs": [
    {
     "name": "stdout",
     "output_type": "stream",
     "text": [
      "GD TEST ACCURACY: 0.9135301146442114\n"
     ]
    }
   ],
   "source": [
    "print(\"GD TEST ACCURACY:\",r2_score(y_test,y_pred_gd_test))"
   ]
  },
  {
   "cell_type": "markdown",
   "id": "b3820464-017d-4ac1-a481-001417f4b1ca",
   "metadata": {},
   "source": [
    "## Model saving\n"
   ]
  },
  {
   "cell_type": "code",
   "execution_count": 116,
   "id": "b092fe85-df4c-49c4-95aa-306c185ba1ae",
   "metadata": {},
   "outputs": [],
   "source": [
    "import joblib"
   ]
  },
  {
   "cell_type": "code",
   "execution_count": 117,
   "id": "61dceeb6-7ce9-41e5-b44c-bf05538010a0",
   "metadata": {},
   "outputs": [
    {
     "name": "stdout",
     "output_type": "stream",
     "text": [
      "lm saved as linear_regression_model.pkl\n",
      "ridge saved as ridge_model.pkl\n",
      "lasso saved as lasso_model.pkl\n",
      "gd_model saved as sgd_model.pkl\n"
     ]
    }
   ],
   "source": [
    "# Save Linear Regression model\n",
    "joblib.dump(lm, 'linear_regression_model.pkl')\n",
    "print('lm saved as linear_regression_model.pkl')\n",
    "\n",
    "# Save Ridge Regression model\n",
    "joblib.dump(ridge, 'ridge_model.pkl')\n",
    "print('ridge saved as ridge_model.pkl')\n",
    "\n",
    "# Save Lasso Regression model\n",
    "joblib.dump(lasso, 'lasso_model.pkl')\n",
    "print('lasso saved as lasso_model.pkl')\n",
    "\n",
    "# Save SGD Regressor model\n",
    "joblib.dump(gd_model, 'sgd_model.pkl')\n",
    "print('gd_model saved as sgd_model.pkl')\n"
   ]
  },
  {
   "cell_type": "code",
   "execution_count": null,
   "id": "d202c073-0ed8-4a39-8000-752f8990fdd8",
   "metadata": {},
   "outputs": [],
   "source": []
  }
 ],
 "metadata": {
  "kernelspec": {
   "display_name": "Python [conda env:base] *",
   "language": "python",
   "name": "conda-base-py"
  },
  "language_info": {
   "codemirror_mode": {
    "name": "ipython",
    "version": 3
   },
   "file_extension": ".py",
   "mimetype": "text/x-python",
   "name": "python",
   "nbconvert_exporter": "python",
   "pygments_lexer": "ipython3",
   "version": "3.12.7"
  }
 },
 "nbformat": 4,
 "nbformat_minor": 5
}
